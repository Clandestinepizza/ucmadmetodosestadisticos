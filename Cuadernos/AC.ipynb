{
 "cells": [
  {
   "cell_type": "markdown",
   "metadata": {},
   "source": [
    "## Análisis de correspondencias\n",
    "\n",
    "La idea es encontrar las diferentes filas (o columnas) que se corresponden en información. Es decir identificar entre las variables cualitativas las filas (o columnas) que suministren INFORMACIÓN EQUIVALENTE.\n",
    "\n",
    "Considere la siguiente información:"
   ]
  },
  {
   "cell_type": "code",
   "execution_count": 71,
   "metadata": {},
   "outputs": [
    {
     "data": {
      "text/html": [
       "<div>\n",
       "<style scoped>\n",
       "    .dataframe tbody tr th:only-of-type {\n",
       "        vertical-align: middle;\n",
       "    }\n",
       "\n",
       "    .dataframe tbody tr th {\n",
       "        vertical-align: top;\n",
       "    }\n",
       "\n",
       "    .dataframe thead th {\n",
       "        text-align: right;\n",
       "    }\n",
       "</style>\n",
       "<table border=\"1\" class=\"dataframe\">\n",
       "  <thead>\n",
       "    <tr style=\"text-align: right;\">\n",
       "      <th></th>\n",
       "      <th>Ojos</th>\n",
       "      <th>Cabello</th>\n",
       "    </tr>\n",
       "  </thead>\n",
       "  <tbody>\n",
       "    <tr>\n",
       "      <td>0</td>\n",
       "      <td>Claros</td>\n",
       "      <td>Rubio</td>\n",
       "    </tr>\n",
       "    <tr>\n",
       "      <td>1</td>\n",
       "      <td>Claros</td>\n",
       "      <td>Rubio</td>\n",
       "    </tr>\n",
       "    <tr>\n",
       "      <td>2</td>\n",
       "      <td>Claros</td>\n",
       "      <td>Rubio</td>\n",
       "    </tr>\n",
       "    <tr>\n",
       "      <td>3</td>\n",
       "      <td>Claros</td>\n",
       "      <td>Rubio</td>\n",
       "    </tr>\n",
       "    <tr>\n",
       "      <td>4</td>\n",
       "      <td>Claros</td>\n",
       "      <td>Rubio</td>\n",
       "    </tr>\n",
       "    <tr>\n",
       "      <td>...</td>\n",
       "      <td>...</td>\n",
       "      <td>...</td>\n",
       "    </tr>\n",
       "    <tr>\n",
       "      <td>5382</td>\n",
       "      <td>Oscuros</td>\n",
       "      <td>Negro</td>\n",
       "    </tr>\n",
       "    <tr>\n",
       "      <td>5383</td>\n",
       "      <td>Oscuros</td>\n",
       "      <td>Negro</td>\n",
       "    </tr>\n",
       "    <tr>\n",
       "      <td>5384</td>\n",
       "      <td>Oscuros</td>\n",
       "      <td>Negro</td>\n",
       "    </tr>\n",
       "    <tr>\n",
       "      <td>5385</td>\n",
       "      <td>Oscuros</td>\n",
       "      <td>Negro</td>\n",
       "    </tr>\n",
       "    <tr>\n",
       "      <td>5386</td>\n",
       "      <td>Oscuros</td>\n",
       "      <td>Negro</td>\n",
       "    </tr>\n",
       "  </tbody>\n",
       "</table>\n",
       "<p>5387 rows × 2 columns</p>\n",
       "</div>"
      ],
      "text/plain": [
       "         Ojos Cabello\n",
       "0      Claros   Rubio\n",
       "1      Claros   Rubio\n",
       "2      Claros   Rubio\n",
       "3      Claros   Rubio\n",
       "4      Claros   Rubio\n",
       "...       ...     ...\n",
       "5382  Oscuros   Negro\n",
       "5383  Oscuros   Negro\n",
       "5384  Oscuros   Negro\n",
       "5385  Oscuros   Negro\n",
       "5386  Oscuros   Negro\n",
       "\n",
       "[5387 rows x 2 columns]"
      ]
     },
     "execution_count": 71,
     "metadata": {},
     "output_type": "execute_result"
    }
   ],
   "source": [
    "import pandas as pd \n",
    "\n",
    "DF=pd.read_excel(\"Ojos_y_cabello.xlsx\")\n",
    "DF "
   ]
  },
  {
   "cell_type": "markdown",
   "metadata": {},
   "source": [
    "Creamos una tabla de contingencia"
   ]
  },
  {
   "cell_type": "code",
   "execution_count": 167,
   "metadata": {},
   "outputs": [
    {
     "data": {
      "text/html": [
       "<div>\n",
       "<style scoped>\n",
       "    .dataframe tbody tr th:only-of-type {\n",
       "        vertical-align: middle;\n",
       "    }\n",
       "\n",
       "    .dataframe tbody tr th {\n",
       "        vertical-align: top;\n",
       "    }\n",
       "\n",
       "    .dataframe thead th {\n",
       "        text-align: right;\n",
       "    }\n",
       "</style>\n",
       "<table border=\"1\" class=\"dataframe\">\n",
       "  <thead>\n",
       "    <tr style=\"text-align: right;\">\n",
       "      <th>Cabello</th>\n",
       "      <th>Medio</th>\n",
       "      <th>Negro</th>\n",
       "      <th>Oscuro</th>\n",
       "      <th>Rojo</th>\n",
       "      <th>Rubio</th>\n",
       "      <th>All</th>\n",
       "    </tr>\n",
       "    <tr>\n",
       "      <th>Ojos</th>\n",
       "      <th></th>\n",
       "      <th></th>\n",
       "      <th></th>\n",
       "      <th></th>\n",
       "      <th></th>\n",
       "      <th></th>\n",
       "    </tr>\n",
       "  </thead>\n",
       "  <tbody>\n",
       "    <tr>\n",
       "      <td>Azules</td>\n",
       "      <td>241</td>\n",
       "      <td>3</td>\n",
       "      <td>110</td>\n",
       "      <td>38</td>\n",
       "      <td>326</td>\n",
       "      <td>718</td>\n",
       "    </tr>\n",
       "    <tr>\n",
       "      <td>Claros</td>\n",
       "      <td>584</td>\n",
       "      <td>4</td>\n",
       "      <td>188</td>\n",
       "      <td>116</td>\n",
       "      <td>688</td>\n",
       "      <td>1580</td>\n",
       "    </tr>\n",
       "    <tr>\n",
       "      <td>Medio</td>\n",
       "      <td>909</td>\n",
       "      <td>26</td>\n",
       "      <td>412</td>\n",
       "      <td>84</td>\n",
       "      <td>343</td>\n",
       "      <td>1774</td>\n",
       "    </tr>\n",
       "    <tr>\n",
       "      <td>Oscuros</td>\n",
       "      <td>403</td>\n",
       "      <td>85</td>\n",
       "      <td>681</td>\n",
       "      <td>48</td>\n",
       "      <td>98</td>\n",
       "      <td>1315</td>\n",
       "    </tr>\n",
       "    <tr>\n",
       "      <td>All</td>\n",
       "      <td>2137</td>\n",
       "      <td>118</td>\n",
       "      <td>1391</td>\n",
       "      <td>286</td>\n",
       "      <td>1455</td>\n",
       "      <td>5387</td>\n",
       "    </tr>\n",
       "  </tbody>\n",
       "</table>\n",
       "</div>"
      ],
      "text/plain": [
       "Cabello  Medio  Negro  Oscuro  Rojo  Rubio   All\n",
       "Ojos                                            \n",
       "Azules     241      3     110    38    326   718\n",
       "Claros     584      4     188   116    688  1580\n",
       "Medio      909     26     412    84    343  1774\n",
       "Oscuros    403     85     681    48     98  1315\n",
       "All       2137    118    1391   286   1455  5387"
      ]
     },
     "execution_count": 167,
     "metadata": {},
     "output_type": "execute_result"
    }
   ],
   "source": [
    "TC=pd.crosstab(DF[\"Ojos\"],DF[\"Cabello\"])\n",
    "TCT=pd.crosstab(DF[\"Ojos\"],DF[\"Cabello\"],margins=True)\n",
    "TCT"
   ]
  },
  {
   "cell_type": "code",
   "execution_count": 168,
   "metadata": {},
   "outputs": [
    {
     "data": {
      "text/plain": [
       "5387"
      ]
     },
     "execution_count": 168,
     "metadata": {},
     "output_type": "execute_result"
    }
   ],
   "source": [
    "DF.count()[1]"
   ]
  },
  {
   "cell_type": "code",
   "execution_count": 208,
   "metadata": {},
   "outputs": [
    {
     "data": {
      "text/html": [
       "<div>\n",
       "<style scoped>\n",
       "    .dataframe tbody tr th:only-of-type {\n",
       "        vertical-align: middle;\n",
       "    }\n",
       "\n",
       "    .dataframe tbody tr th {\n",
       "        vertical-align: top;\n",
       "    }\n",
       "\n",
       "    .dataframe thead th {\n",
       "        text-align: right;\n",
       "    }\n",
       "</style>\n",
       "<table border=\"1\" class=\"dataframe\">\n",
       "  <thead>\n",
       "    <tr style=\"text-align: right;\">\n",
       "      <th>Cabello</th>\n",
       "      <th>Medio</th>\n",
       "      <th>Negro</th>\n",
       "      <th>Oscuro</th>\n",
       "      <th>Rojo</th>\n",
       "      <th>Rubio</th>\n",
       "      <th>All</th>\n",
       "    </tr>\n",
       "    <tr>\n",
       "      <th>Ojos</th>\n",
       "      <th></th>\n",
       "      <th></th>\n",
       "      <th></th>\n",
       "      <th></th>\n",
       "      <th></th>\n",
       "      <th></th>\n",
       "    </tr>\n",
       "  </thead>\n",
       "  <tbody>\n",
       "    <tr>\n",
       "      <td>Azules</td>\n",
       "      <td>0.044737</td>\n",
       "      <td>0.000557</td>\n",
       "      <td>0.020420</td>\n",
       "      <td>0.007054</td>\n",
       "      <td>0.060516</td>\n",
       "      <td>0.133284</td>\n",
       "    </tr>\n",
       "    <tr>\n",
       "      <td>Claros</td>\n",
       "      <td>0.108409</td>\n",
       "      <td>0.000743</td>\n",
       "      <td>0.034899</td>\n",
       "      <td>0.021533</td>\n",
       "      <td>0.127715</td>\n",
       "      <td>0.293299</td>\n",
       "    </tr>\n",
       "    <tr>\n",
       "      <td>Medio</td>\n",
       "      <td>0.168740</td>\n",
       "      <td>0.004826</td>\n",
       "      <td>0.076480</td>\n",
       "      <td>0.015593</td>\n",
       "      <td>0.063672</td>\n",
       "      <td>0.329311</td>\n",
       "    </tr>\n",
       "    <tr>\n",
       "      <td>Oscuros</td>\n",
       "      <td>0.074810</td>\n",
       "      <td>0.015779</td>\n",
       "      <td>0.126415</td>\n",
       "      <td>0.008910</td>\n",
       "      <td>0.018192</td>\n",
       "      <td>0.244106</td>\n",
       "    </tr>\n",
       "    <tr>\n",
       "      <td>All</td>\n",
       "      <td>0.396696</td>\n",
       "      <td>0.021905</td>\n",
       "      <td>0.258214</td>\n",
       "      <td>0.053091</td>\n",
       "      <td>0.270095</td>\n",
       "      <td>1.000000</td>\n",
       "    </tr>\n",
       "  </tbody>\n",
       "</table>\n",
       "</div>"
      ],
      "text/plain": [
       "Cabello     Medio     Negro    Oscuro      Rojo     Rubio       All\n",
       "Ojos                                                               \n",
       "Azules   0.044737  0.000557  0.020420  0.007054  0.060516  0.133284\n",
       "Claros   0.108409  0.000743  0.034899  0.021533  0.127715  0.293299\n",
       "Medio    0.168740  0.004826  0.076480  0.015593  0.063672  0.329311\n",
       "Oscuros  0.074810  0.015779  0.126415  0.008910  0.018192  0.244106\n",
       "All      0.396696  0.021905  0.258214  0.053091  0.270095  1.000000"
      ]
     },
     "execution_count": 208,
     "metadata": {},
     "output_type": "execute_result"
    }
   ],
   "source": [
    "TCR=TC/len(DF)\n",
    "TCRT=TCT/len(DF)\n",
    "TCRT"
   ]
  },
  {
   "cell_type": "markdown",
   "metadata": {},
   "source": [
    "Estas tablas funcionan como DataFrames:"
   ]
  },
  {
   "cell_type": "code",
   "execution_count": 170,
   "metadata": {},
   "outputs": [
    {
     "data": {
      "text/plain": [
       "Cabello\n",
       "Medio     0.369620\n",
       "Negro     0.002532\n",
       "Oscuro    0.118987\n",
       "Rojo      0.073418\n",
       "Rubio     0.435443\n",
       "Name: Claros, dtype: float64"
      ]
     },
     "execution_count": 170,
     "metadata": {},
     "output_type": "execute_result"
    }
   ],
   "source": [
    "TC.iloc[1]/sum(TC.iloc[1])"
   ]
  },
  {
   "cell_type": "code",
   "execution_count": 171,
   "metadata": {},
   "outputs": [
    {
     "data": {
      "text/plain": [
       "Ojos\n",
       "Azules     0.044737\n",
       "Claros     0.108409\n",
       "Medio      0.168740\n",
       "Oscuros    0.074810\n",
       "Name: Medio, dtype: float64"
      ]
     },
     "execution_count": 171,
     "metadata": {},
     "output_type": "execute_result"
    }
   ],
   "source": [
    "TCR[\"Medio\"]"
   ]
  },
  {
   "cell_type": "markdown",
   "metadata": {},
   "source": [
    "## Perfil fila\n",
    "\n",
    "Creamos una tabla que tome cada fila como una población independiente. La tabla de frecuencias relativas será así:"
   ]
  },
  {
   "cell_type": "code",
   "execution_count": 196,
   "metadata": {},
   "outputs": [],
   "source": [
    "TCFT=[]\n",
    "for i in range(4):\n",
    "    TCFT.append(TCT.iloc[i]/sum(TC.iloc[i]))\n",
    "TCFT=pd.DataFrame(TCFT)\n"
   ]
  },
  {
   "cell_type": "code",
   "execution_count": 186,
   "metadata": {},
   "outputs": [
    {
     "data": {
      "image/png": "[encoded data removed]",
      "text/plain": [
       "<Figure size 432x288 with 1 Axes>"
      ]
     },
     "metadata": {
      "needs_background": "light"
     },
     "output_type": "display_data"
    }
   ],
   "source": [
    "import matplotlib\n",
    "import matplotlib.pyplot as plt\n",
    "import numpy as np\n",
    "\n",
    "\n",
    "def autolabel(rects):\n",
    "    \"\"\"Attach a text label above each bar in *rects*, displaying its height.\"\"\"\n",
    "    for rect in rects:\n",
    "        height = rect.get_height()\n",
    "        ax.annotate('{:.2f}'.format(100*height),\n",
    "                    xy=(rect.get_x() + rect.get_width() / 2, height),\n",
    "                    xytext=(0, 3),  # 3 points vertical offset\n",
    "                    textcoords=\"offset points\",\n",
    "                    ha='center', va='bottom')\n",
    "        \n",
    "\n",
    "labels = ['Azules', 'Claros', 'Medio', 'Oscuros']\n",
    "\n",
    "x = np.arange(len(labels))  # the label locations\n",
    "width = 0.3  # the width of the bars\n",
    "\n",
    "fig, ax = plt.subplots()\n",
    "\n",
    "\n",
    "for i in range(TCF.shape[1]):\n",
    "    autolabel(ax.bar(x -(1-i/2)*width, np.array(TCF.iloc[:,i]), width/2, label=TCF.iloc[:,i].name))\n",
    "\n",
    "# Add some text for labels, title and custom x-axis tick labels, etc.\n",
    "ax.set_ylabel('Scores')\n",
    "ax.set_title('Scores by group and gender')\n",
    "ax.set_xticks(x)\n",
    "ax.set_xticklabels(labels)\n",
    "ax.legend()\n",
    "\n",
    "    \n",
    "plt.show()\n"
   ]
  },
  {
   "cell_type": "markdown",
   "metadata": {},
   "source": [
    "El perfil columna se define de manera equivalente, use los códigos anteriores para definirlo."
   ]
  },
  {
   "cell_type": "markdown",
   "metadata": {},
   "source": [
    "## Distancia Chi cuadrado\n",
    "\n",
    "Vamos a definir que tan lejos está una fila de otra. Usaremos la distancia Chi-cuadrado (ji-cuadrado $\\chi^2$).\n",
    "\n",
    "Primero fijamos algunas notaciones útiles:\n",
    "* Número de elemntos por filas y columnas, tenemos $n$ filas y $p$ columnas:\n",
    "$$ n_{i.}=\\sum\\limits_{j=1}^{p} n_{ij}\\text{ ,}  \\ \\  \\ n_{.j}=\\sum\\limits_{i=1}^{n} n_{ij}$$\n",
    "\n",
    "* Frecuencias relativas absolutas y marginales:\n",
    "$$ f_{ij}=\\cfrac{n_{ij}}{N}\\text{,}\\ \\ \\ f_{i.}=\\sum\\limits_{j=1}^{p}f_{ij}=\\cfrac{n_{i.}}{N}\\text{,}\\ \\ \\ \n",
    "f_{.j}=\\sum\\limits_{i=1}^{n}f_{ij}=\\cfrac{n_{.j}}{N}\\text{.}$$\n",
    "Con esto en mente, definimos la distancia entre dos perfiles como:\n",
    "* $$d^2(i,i')=\\sum\\limits_{j=1}^p \\cfrac{1}{f_{.j}}\\left( \\cfrac{f_{ij}}{f_{i.}}-\\cfrac{f_{i'j}}{f_{i'.}} \\right)^2, \\text{ para las filas.}$$\n",
    "\n",
    "* $$d^2(j,j')=\\sum\\limits_{i=1}^n \\cfrac{1}{f_{i.}}\\left( \\cfrac{f_{ij}}{f_{.j}}-\\cfrac{f_{i'j}}{f_{.j'}}  \\right)^2, \\text{ para las columnas.}$$\n",
    "\n"
   ]
  },
  {
   "cell_type": "code",
   "execution_count": 187,
   "metadata": {},
   "outputs": [],
   "source": [
    "# un código aquí para esos cálculos"
   ]
  },
  {
   "cell_type": "markdown",
   "metadata": {},
   "source": [
    "El centroide o baricentro de la nube de puntos fila se representa por $\\mathcal(G)_f$ y sus coordenadas son iguales a las frecuencias marginales:\n",
    "\n",
    "$$\\mathcal(G)_f=(f_{.1},f_{.2},\\cdots, f_{.p}) $$\n",
    "\n"
   ]
  },
  {
   "cell_type": "code",
   "execution_count": 197,
   "metadata": {},
   "outputs": [
    {
     "data": {
      "text/html": [
       "<div>\n",
       "<style scoped>\n",
       "    .dataframe tbody tr th:only-of-type {\n",
       "        vertical-align: middle;\n",
       "    }\n",
       "\n",
       "    .dataframe tbody tr th {\n",
       "        vertical-align: top;\n",
       "    }\n",
       "\n",
       "    .dataframe thead th {\n",
       "        text-align: right;\n",
       "    }\n",
       "</style>\n",
       "<table border=\"1\" class=\"dataframe\">\n",
       "  <thead>\n",
       "    <tr style=\"text-align: right;\">\n",
       "      <th>Cabello</th>\n",
       "      <th>Medio</th>\n",
       "      <th>Negro</th>\n",
       "      <th>Oscuro</th>\n",
       "      <th>Rojo</th>\n",
       "      <th>Rubio</th>\n",
       "      <th>All</th>\n",
       "    </tr>\n",
       "  </thead>\n",
       "  <tbody>\n",
       "    <tr>\n",
       "      <td>Azules</td>\n",
       "      <td>0.335655</td>\n",
       "      <td>0.004178</td>\n",
       "      <td>0.153203</td>\n",
       "      <td>0.052925</td>\n",
       "      <td>0.454039</td>\n",
       "      <td>1.0</td>\n",
       "    </tr>\n",
       "    <tr>\n",
       "      <td>Claros</td>\n",
       "      <td>0.369620</td>\n",
       "      <td>0.002532</td>\n",
       "      <td>0.118987</td>\n",
       "      <td>0.073418</td>\n",
       "      <td>0.435443</td>\n",
       "      <td>1.0</td>\n",
       "    </tr>\n",
       "    <tr>\n",
       "      <td>Medio</td>\n",
       "      <td>0.512401</td>\n",
       "      <td>0.014656</td>\n",
       "      <td>0.232244</td>\n",
       "      <td>0.047351</td>\n",
       "      <td>0.193348</td>\n",
       "      <td>1.0</td>\n",
       "    </tr>\n",
       "    <tr>\n",
       "      <td>Oscuros</td>\n",
       "      <td>0.306464</td>\n",
       "      <td>0.064639</td>\n",
       "      <td>0.517871</td>\n",
       "      <td>0.036502</td>\n",
       "      <td>0.074525</td>\n",
       "      <td>1.0</td>\n",
       "    </tr>\n",
       "    <tr>\n",
       "      <td>All</td>\n",
       "      <td>0.396696</td>\n",
       "      <td>0.021905</td>\n",
       "      <td>0.258214</td>\n",
       "      <td>0.053091</td>\n",
       "      <td>0.270095</td>\n",
       "      <td>1.0</td>\n",
       "    </tr>\n",
       "  </tbody>\n",
       "</table>\n",
       "</div>"
      ],
      "text/plain": [
       "Cabello     Medio     Negro    Oscuro      Rojo     Rubio  All\n",
       "Azules   0.335655  0.004178  0.153203  0.052925  0.454039  1.0\n",
       "Claros   0.369620  0.002532  0.118987  0.073418  0.435443  1.0\n",
       "Medio    0.512401  0.014656  0.232244  0.047351  0.193348  1.0\n",
       "Oscuros  0.306464  0.064639  0.517871  0.036502  0.074525  1.0\n",
       "All      0.396696  0.021905  0.258214  0.053091  0.270095  1.0"
      ]
     },
     "execution_count": 197,
     "metadata": {},
     "output_type": "execute_result"
    }
   ],
   "source": [
    "TCFT=TCFT.append(TCRT.iloc[len(TCRT)-1])\n",
    "TCFT"
   ]
  },
  {
   "cell_type": "code",
   "execution_count": 200,
   "metadata": {},
   "outputs": [
    {
     "data": {
      "text/plain": [
       "0.021904585112307407"
      ]
     },
     "execution_count": 200,
     "metadata": {},
     "output_type": "execute_result"
    }
   ],
   "source": [
    "TCFT.iloc[4][1]"
   ]
  },
  {
   "cell_type": "code",
   "execution_count": 203,
   "metadata": {},
   "outputs": [],
   "source": [
    "s=0\n",
    "for i in range(4):\n",
    "    s=s+1/TCFT.iloc[4][i]*(TCFT.iloc[1][i]/TCRT[\"All\"][1]-TCFT.iloc[2][i]/TCRT[\"All\"][2])**2"
   ]
  },
  {
   "cell_type": "markdown",
   "metadata": {},
   "source": [
    "Matris $S$"
   ]
  },
  {
   "cell_type": "code",
   "execution_count": 226,
   "metadata": {},
   "outputs": [
    {
     "data": {
      "text/plain": [
       "array([[0.41461336, 0.08335431, 0.30521303, 0.14503136, 0.3229736 ],\n",
       "       [0.08335431, 0.0499832 , 0.12586505, 0.02605367, 0.03491101],\n",
       "       [0.30521303, 0.12586505, 0.35052213, 0.10145395, 0.18431818],\n",
       "       [0.14503136, 0.02605367, 0.10145395, 0.05684315, 0.13577097],\n",
       "       [0.3229736 , 0.03491101, 0.18431818, 0.13577097, 0.35822916]])"
      ]
     },
     "execution_count": 226,
     "metadata": {},
     "output_type": "execute_result"
    }
   ],
   "source": [
    "\n",
    "\n",
    "np.diag((TCRT.iloc[4][0:5])**(-1/2))@np.transpose(np.array(TCF))@np.diag(TCRT[\"All\"][0:4])@np.array(TCF)@np.diag((TCRT.iloc[4][0:5])**(-1/2))"
   ]
  },
  {
   "cell_type": "code",
   "execution_count": 220,
   "metadata": {},
   "outputs": [
    {
     "data": {
      "text/plain": [
       "array([[0.13328383, 0.        , 0.        , 0.        ],\n",
       "       [0.        , 0.29329868, 0.        , 0.        ],\n",
       "       [0.        , 0.        , 0.3293113 , 0.        ],\n",
       "       [0.        , 0.        , 0.        , 0.24410618]])"
      ]
     },
     "execution_count": 220,
     "metadata": {},
     "output_type": "execute_result"
    }
   ],
   "source": [
    "np.diag(TCRT[\"All\"][0:4])"
   ]
  },
  {
   "cell_type": "code",
   "execution_count": null,
   "metadata": {},
   "outputs": [],
   "source": []
  }
 ],
 "metadata": {
  "kernelspec": {
   "display_name": "Python 3",
   "language": "python",
   "name": "python3"
  },
  "language_info": {
   "codemirror_mode": {
    "name": "ipython",
    "version": 3
   },
   "file_extension": ".py",
   "mimetype": "text/x-python",
   "name": "python",
   "nbconvert_exporter": "python",
   "pygments_lexer": "ipython3",
   "version": "3.7.4"
  }
 },
 "nbformat": 4,
 "nbformat_minor": 2
}
