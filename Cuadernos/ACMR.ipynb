{
 "cells": [
  {
   "cell_type": "code",
   "execution_count": 1,
   "metadata": {},
   "outputs": [],
   "source": [
    "edad<-c(2,3,3,3,2,1,2,2,3,2,1,1,2,3,3,1,3,3,2,1)\n",
    "sexo<-c(1,2,1,2,1,1,1,2,1,2,2,1,2,2,1,2,2,1,2,1)\n",
    "esco<-c(2,1,4,2,1,1,2,2,3,4,3,2,2,2,4,2,3,1,2,3)\n",
    "econ<-c(2,2,2,2,2,1,2,2,3,2,3,3,2,2,3,2,2,1,1,2)\n",
    "vvda<-c(1,1,1,1,1,2,2,1,1,1,1,2,1,1,1,1,1,2,2,1)"
   ]
  },
  {
   "cell_type": "code",
   "execution_count": 2,
   "metadata": {},
   "outputs": [],
   "source": [
    "edad<-factor(edad, labels = c(\"joven\",\"adulto\",\"anciano\"))\n",
    "sexo<-factor(sexo, labels = c(\"masculino\",\"femenino\"))\n",
    "esco<-factor(esco, labels = c(\"primaria\",\"secundaria\",\"universitaria\",\"otra\"))\n",
    "econ<-factor(econ, labels = c(\"bajo\",\"medio\",\"alto\"))\n",
    "vvda<-factor(vvda, labels = c(\"si\",\"no\"))\n",
    "datos<-data.frame(edad,sexo,esco,econ,vvda)"
   ]
  },
  {
   "cell_type": "code",
   "execution_count": 3,
   "metadata": {},
   "outputs": [
    {
     "data": {
      "text/html": [
       "<table>\n",
       "<caption>A data.frame: 20 × 5</caption>\n",
       "<thead>\n",
       "\t<tr><th scope=col>edad</th><th scope=col>sexo</th><th scope=col>esco</th><th scope=col>econ</th><th scope=col>vvda</th></tr>\n",
       "\t<tr><th scope=col>&lt;fct&gt;</th><th scope=col>&lt;fct&gt;</th><th scope=col>&lt;fct&gt;</th><th scope=col>&lt;fct&gt;</th><th scope=col>&lt;fct&gt;</th></tr>\n",
       "</thead>\n",
       "<tbody>\n",
       "\t<tr><td>adulto </td><td>masculino</td><td>secundaria   </td><td>medio</td><td>si</td></tr>\n",
       "\t<tr><td>anciano</td><td>femenino </td><td>primaria     </td><td>medio</td><td>si</td></tr>\n",
       "\t<tr><td>anciano</td><td>masculino</td><td>otra         </td><td>medio</td><td>si</td></tr>\n",
       "\t<tr><td>anciano</td><td>femenino </td><td>secundaria   </td><td>medio</td><td>si</td></tr>\n",
       "\t<tr><td>adulto </td><td>masculino</td><td>primaria     </td><td>medio</td><td>si</td></tr>\n",
       "\t<tr><td>joven  </td><td>masculino</td><td>primaria     </td><td>bajo </td><td>no</td></tr>\n",
       "\t<tr><td>adulto </td><td>masculino</td><td>secundaria   </td><td>medio</td><td>no</td></tr>\n",
       "\t<tr><td>adulto </td><td>femenino </td><td>secundaria   </td><td>medio</td><td>si</td></tr>\n",
       "\t<tr><td>anciano</td><td>masculino</td><td>universitaria</td><td>alto </td><td>si</td></tr>\n",
       "\t<tr><td>adulto </td><td>femenino </td><td>otra         </td><td>medio</td><td>si</td></tr>\n",
       "\t<tr><td>joven  </td><td>femenino </td><td>universitaria</td><td>alto </td><td>si</td></tr>\n",
       "\t<tr><td>joven  </td><td>masculino</td><td>secundaria   </td><td>alto </td><td>no</td></tr>\n",
       "\t<tr><td>adulto </td><td>femenino </td><td>secundaria   </td><td>medio</td><td>si</td></tr>\n",
       "\t<tr><td>anciano</td><td>femenino </td><td>secundaria   </td><td>medio</td><td>si</td></tr>\n",
       "\t<tr><td>anciano</td><td>masculino</td><td>otra         </td><td>alto </td><td>si</td></tr>\n",
       "\t<tr><td>joven  </td><td>femenino </td><td>secundaria   </td><td>medio</td><td>si</td></tr>\n",
       "\t<tr><td>anciano</td><td>femenino </td><td>universitaria</td><td>medio</td><td>si</td></tr>\n",
       "\t<tr><td>anciano</td><td>masculino</td><td>primaria     </td><td>bajo </td><td>no</td></tr>\n",
       "\t<tr><td>adulto </td><td>femenino </td><td>secundaria   </td><td>bajo </td><td>no</td></tr>\n",
       "\t<tr><td>joven  </td><td>masculino</td><td>universitaria</td><td>medio</td><td>si</td></tr>\n",
       "</tbody>\n",
       "</table>\n"
      ],
      "text/latex": [
       "A data.frame: 20 × 5\n",
       "\\begin{tabular}{lllll}\n",
       " edad & sexo & esco & econ & vvda\\\\\n",
       " <fct> & <fct> & <fct> & <fct> & <fct>\\\\\n",
       "\\hline\n",
       "\t adulto  & masculino & secundaria    & medio & si\\\\\n",
       "\t anciano & femenino  & primaria      & medio & si\\\\\n",
       "\t anciano & masculino & otra          & medio & si\\\\\n",
       "\t anciano & femenino  & secundaria    & medio & si\\\\\n",
       "\t adulto  & masculino & primaria      & medio & si\\\\\n",
       "\t joven   & masculino & primaria      & bajo  & no\\\\\n",
       "\t adulto  & masculino & secundaria    & medio & no\\\\\n",
       "\t adulto  & femenino  & secundaria    & medio & si\\\\\n",
       "\t anciano & masculino & universitaria & alto  & si\\\\\n",
       "\t adulto  & femenino  & otra          & medio & si\\\\\n",
       "\t joven   & femenino  & universitaria & alto  & si\\\\\n",
       "\t joven   & masculino & secundaria    & alto  & no\\\\\n",
       "\t adulto  & femenino  & secundaria    & medio & si\\\\\n",
       "\t anciano & femenino  & secundaria    & medio & si\\\\\n",
       "\t anciano & masculino & otra          & alto  & si\\\\\n",
       "\t joven   & femenino  & secundaria    & medio & si\\\\\n",
       "\t anciano & femenino  & universitaria & medio & si\\\\\n",
       "\t anciano & masculino & primaria      & bajo  & no\\\\\n",
       "\t adulto  & femenino  & secundaria    & bajo  & no\\\\\n",
       "\t joven   & masculino & universitaria & medio & si\\\\\n",
       "\\end{tabular}\n"
      ],
      "text/markdown": [
       "\n",
       "A data.frame: 20 × 5\n",
       "\n",
       "| edad &lt;fct&gt; | sexo &lt;fct&gt; | esco &lt;fct&gt; | econ &lt;fct&gt; | vvda &lt;fct&gt; |\n",
       "|---|---|---|---|---|\n",
       "| adulto  | masculino | secundaria    | medio | si |\n",
       "| anciano | femenino  | primaria      | medio | si |\n",
       "| anciano | masculino | otra          | medio | si |\n",
       "| anciano | femenino  | secundaria    | medio | si |\n",
       "| adulto  | masculino | primaria      | medio | si |\n",
       "| joven   | masculino | primaria      | bajo  | no |\n",
       "| adulto  | masculino | secundaria    | medio | no |\n",
       "| adulto  | femenino  | secundaria    | medio | si |\n",
       "| anciano | masculino | universitaria | alto  | si |\n",
       "| adulto  | femenino  | otra          | medio | si |\n",
       "| joven   | femenino  | universitaria | alto  | si |\n",
       "| joven   | masculino | secundaria    | alto  | no |\n",
       "| adulto  | femenino  | secundaria    | medio | si |\n",
       "| anciano | femenino  | secundaria    | medio | si |\n",
       "| anciano | masculino | otra          | alto  | si |\n",
       "| joven   | femenino  | secundaria    | medio | si |\n",
       "| anciano | femenino  | universitaria | medio | si |\n",
       "| anciano | masculino | primaria      | bajo  | no |\n",
       "| adulto  | femenino  | secundaria    | bajo  | no |\n",
       "| joven   | masculino | universitaria | medio | si |\n",
       "\n"
      ],
      "text/plain": [
       "   edad    sexo      esco          econ  vvda\n",
       "1  adulto  masculino secundaria    medio si  \n",
       "2  anciano femenino  primaria      medio si  \n",
       "3  anciano masculino otra          medio si  \n",
       "4  anciano femenino  secundaria    medio si  \n",
       "5  adulto  masculino primaria      medio si  \n",
       "6  joven   masculino primaria      bajo  no  \n",
       "7  adulto  masculino secundaria    medio no  \n",
       "8  adulto  femenino  secundaria    medio si  \n",
       "9  anciano masculino universitaria alto  si  \n",
       "10 adulto  femenino  otra          medio si  \n",
       "11 joven   femenino  universitaria alto  si  \n",
       "12 joven   masculino secundaria    alto  no  \n",
       "13 adulto  femenino  secundaria    medio si  \n",
       "14 anciano femenino  secundaria    medio si  \n",
       "15 anciano masculino otra          alto  si  \n",
       "16 joven   femenino  secundaria    medio si  \n",
       "17 anciano femenino  universitaria medio si  \n",
       "18 anciano masculino primaria      bajo  no  \n",
       "19 adulto  femenino  secundaria    bajo  no  \n",
       "20 joven   masculino universitaria medio si  "
      ]
     },
     "metadata": {},
     "output_type": "display_data"
    }
   ],
   "source": [
    "datos"
   ]
  },
  {
   "cell_type": "code",
   "execution_count": 6,
   "metadata": {},
   "outputs": [
    {
     "name": "stderr",
     "output_type": "stream",
     "text": [
      "Installing package into 'C:/Users/cizai/OneDrive/Documentos/R/win-library/3.6'\n",
      "(as 'lib' is unspecified)\n",
      "\n"
     ]
    },
    {
     "name": "stdout",
     "output_type": "stream",
     "text": [
      "package 'ca' successfully unpacked and MD5 sums checked\n",
      "\n",
      "The downloaded binary packages are in\n",
      "\tC:\\Users\\cizai\\AppData\\Local\\Temp\\RtmpcVvOHv\\downloaded_packages\n"
     ]
    }
   ],
   "source": [
    "install.packages('ca')"
   ]
  },
  {
   "cell_type": "code",
   "execution_count": 7,
   "metadata": {},
   "outputs": [
    {
     "name": "stderr",
     "output_type": "stream",
     "text": [
      "Warning message:\n",
      "\"package 'ca' was built under R version 3.6.3\"\n"
     ]
    }
   ],
   "source": [
    "library(ca)"
   ]
  },
  {
   "cell_type": "code",
   "execution_count": 8,
   "metadata": {},
   "outputs": [],
   "source": [
    "acm<-mjca(datos,lambda=\"indicator\",supcol=5,nd=NA)"
   ]
  },
  {
   "cell_type": "code",
   "execution_count": 9,
   "metadata": {},
   "outputs": [
    {
     "data": {
      "text/plain": [
       "\n",
       "Principal inertias (eigenvalues):\n",
       "\n",
       " dim    value      %   cum%   scree plot               \n",
       " 1      0.477715  23.9  23.9  ******                   \n",
       " 2      0.402491  20.1  44.0  *****                    \n",
       " 3      0.333171  16.7  60.7  ****                     \n",
       " 4      0.250134  12.5  73.2  ***                      \n",
       " 5      0.170013   8.5  81.7  **                       \n",
       " 6      0.144391   7.2  88.9  **                       \n",
       " 7      0.130371   6.5  95.4  **                       \n",
       " 8      0.091713   4.6 100.0  *                        \n",
       "        -------- -----                                 \n",
       " Total: 2.000000 100.0                                 \n",
       "\n",
       "\n",
       "Columns:\n",
       "                   name   mass  qlt  inr     k=1 cor  ctr     k=2 cor  ctr  \n",
       "1  |         edad:joven |   62  226   91 |  -823 226   89 |    17   0    0 |\n",
       "2  |        edad:adulto |   88  530   86 |   988 526  179 |   -87   4    2 |\n",
       "3  |       edad:anciano |  100   85   66 |  -350  82   26 |    66   3    1 |\n",
       "4  |     sexo:masculino |  125  398   60 |  -507 257   67 |  -376 141   44 |\n",
       "5  |      sexo:femenino |  125  398   60 |   507 257   67 |   376 141   44 |\n",
       "6  |      esco:primaria |   50  727  105 |  -259  17    7 | -1686 710  353 |\n",
       "7  |    esco:secundaria |  112  460   71 |   717 421  121 |   218  39   13 |\n",
       "8  | esco:universitaria |   50  520  103 | -1166 340  142 |   850 180   90 |\n",
       "9  |          esco:otra |   38   49   95 |  -252  11    5 |   460  37   20 |\n",
       "10 |          econ:bajo |   38  664  107 |  -180   6    3 | -1931 658  347 |\n",
       "11 |         econ:medio |  162  523   45 |   483 433   79 |   220  90   19 |\n",
       "12 |          econ:alto |   50  649  111 | -1434 514  215 |   734 135   67 |\n",
       "13 |         (*)vvda:si | <NA>  691 <NA> |    34  14 <NA> |   230 676 <NA> |\n",
       "14 |         (*)vvda:no | <NA>  691 <NA> |  -101  14 <NA> |  -690 676 <NA> |\n"
      ]
     },
     "metadata": {},
     "output_type": "display_data"
    }
   ],
   "source": [
    "summary(acm)"
   ]
  },
  {
   "cell_type": "code",
   "execution_count": 10,
   "metadata": {},
   "outputs": [
    {
     "data": {
      "text/html": [
       "<style>\n",
       ".list-inline {list-style: none; margin:0; padding: 0}\n",
       ".list-inline>li {display: inline-block}\n",
       ".list-inline>li:not(:last-child)::after {content: \"\\00b7\"; padding: 0 .5ex}\n",
       "</style>\n",
       "<ol class=list-inline><li>0.691169535130038</li><li>0.634421409117515</li><li>0.57720999338818</li><li>0.500134414473776</li><li>0.412326010997802</li><li>0.379988685912186</li><li>0.361068900668764</li><li>0.302842283303513</li></ol>\n"
      ],
      "text/latex": [
       "\\begin{enumerate*}\n",
       "\\item 0.691169535130038\n",
       "\\item 0.634421409117515\n",
       "\\item 0.57720999338818\n",
       "\\item 0.500134414473776\n",
       "\\item 0.412326010997802\n",
       "\\item 0.379988685912186\n",
       "\\item 0.361068900668764\n",
       "\\item 0.302842283303513\n",
       "\\end{enumerate*}\n"
      ],
      "text/markdown": [
       "1. 0.691169535130038\n",
       "2. 0.634421409117515\n",
       "3. 0.57720999338818\n",
       "4. 0.500134414473776\n",
       "5. 0.412326010997802\n",
       "6. 0.379988685912186\n",
       "7. 0.361068900668764\n",
       "8. 0.302842283303513\n",
       "\n",
       "\n"
      ],
      "text/plain": [
       "[1] 0.6911695 0.6344214 0.5772100 0.5001344 0.4123260 0.3799887 0.3610689\n",
       "[8] 0.3028423"
      ]
     },
     "metadata": {},
     "output_type": "display_data"
    }
   ],
   "source": [
    "acm$sv"
   ]
  },
  {
   "cell_type": "code",
   "execution_count": 11,
   "metadata": {},
   "outputs": [],
   "source": [
    "sacm=summary(acm)"
   ]
  },
  {
   "cell_type": "code",
   "execution_count": 16,
   "metadata": {},
   "outputs": [
    {
     "data": {
      "text/html": [
       "<table>\n",
       "<caption>A data.frame: 14 × 5</caption>\n",
       "<thead>\n",
       "\t<tr><th></th><th scope=col>sacm$columns[, c(1)]</th><th scope=col> k=1</th><th scope=col> k=2</th><th scope=col>cor</th><th scope=col>cor.1</th></tr>\n",
       "\t<tr><th></th><th scope=col>&lt;fct&gt;</th><th scope=col>&lt;dbl&gt;</th><th scope=col>&lt;dbl&gt;</th><th scope=col>&lt;dbl&gt;</th><th scope=col>&lt;dbl&gt;</th></tr>\n",
       "</thead>\n",
       "<tbody>\n",
       "\t<tr><th scope=row>1</th><td>edad:joven        </td><td>-0.823</td><td> 0.017</td><td>0.226</td><td>0.000</td></tr>\n",
       "\t<tr><th scope=row>2</th><td>edad:adulto       </td><td> 0.988</td><td>-0.087</td><td>0.526</td><td>0.004</td></tr>\n",
       "\t<tr><th scope=row>3</th><td>edad:anciano      </td><td>-0.350</td><td> 0.066</td><td>0.082</td><td>0.003</td></tr>\n",
       "\t<tr><th scope=row>4</th><td>sexo:masculino    </td><td>-0.507</td><td>-0.376</td><td>0.257</td><td>0.141</td></tr>\n",
       "\t<tr><th scope=row>5</th><td>sexo:femenino     </td><td> 0.507</td><td> 0.376</td><td>0.257</td><td>0.141</td></tr>\n",
       "\t<tr><th scope=row>6</th><td>esco:primaria     </td><td>-0.259</td><td>-1.686</td><td>0.017</td><td>0.710</td></tr>\n",
       "\t<tr><th scope=row>7</th><td>esco:secundaria   </td><td> 0.717</td><td> 0.218</td><td>0.421</td><td>0.039</td></tr>\n",
       "\t<tr><th scope=row>8</th><td>esco:universitaria</td><td>-1.166</td><td> 0.850</td><td>0.340</td><td>0.180</td></tr>\n",
       "\t<tr><th scope=row>9</th><td>esco:otra         </td><td>-0.252</td><td> 0.460</td><td>0.011</td><td>0.037</td></tr>\n",
       "\t<tr><th scope=row>10</th><td>econ:bajo         </td><td>-0.180</td><td>-1.931</td><td>0.006</td><td>0.658</td></tr>\n",
       "\t<tr><th scope=row>11</th><td>econ:medio        </td><td> 0.483</td><td> 0.220</td><td>0.433</td><td>0.090</td></tr>\n",
       "\t<tr><th scope=row>12</th><td>econ:alto         </td><td>-1.434</td><td> 0.734</td><td>0.514</td><td>0.135</td></tr>\n",
       "\t<tr><th scope=row>13</th><td>(*)vvda:si        </td><td> 0.034</td><td> 0.230</td><td>0.014</td><td>0.676</td></tr>\n",
       "\t<tr><th scope=row>14</th><td>(*)vvda:no        </td><td>-0.101</td><td>-0.690</td><td>0.014</td><td>0.676</td></tr>\n",
       "</tbody>\n",
       "</table>\n"
      ],
      "text/latex": [
       "A data.frame: 14 × 5\n",
       "\\begin{tabular}{r|lllll}\n",
       "  & sacm\\$columns{[}, c(1){]} &  k=1 &  k=2 & cor & cor.1\\\\\n",
       "  & <fct> & <dbl> & <dbl> & <dbl> & <dbl>\\\\\n",
       "\\hline\n",
       "\t1 & edad:joven         & -0.823 &  0.017 & 0.226 & 0.000\\\\\n",
       "\t2 & edad:adulto        &  0.988 & -0.087 & 0.526 & 0.004\\\\\n",
       "\t3 & edad:anciano       & -0.350 &  0.066 & 0.082 & 0.003\\\\\n",
       "\t4 & sexo:masculino     & -0.507 & -0.376 & 0.257 & 0.141\\\\\n",
       "\t5 & sexo:femenino      &  0.507 &  0.376 & 0.257 & 0.141\\\\\n",
       "\t6 & esco:primaria      & -0.259 & -1.686 & 0.017 & 0.710\\\\\n",
       "\t7 & esco:secundaria    &  0.717 &  0.218 & 0.421 & 0.039\\\\\n",
       "\t8 & esco:universitaria & -1.166 &  0.850 & 0.340 & 0.180\\\\\n",
       "\t9 & esco:otra          & -0.252 &  0.460 & 0.011 & 0.037\\\\\n",
       "\t10 & econ:bajo          & -0.180 & -1.931 & 0.006 & 0.658\\\\\n",
       "\t11 & econ:medio         &  0.483 &  0.220 & 0.433 & 0.090\\\\\n",
       "\t12 & econ:alto          & -1.434 &  0.734 & 0.514 & 0.135\\\\\n",
       "\t13 & (*)vvda:si         &  0.034 &  0.230 & 0.014 & 0.676\\\\\n",
       "\t14 & (*)vvda:no         & -0.101 & -0.690 & 0.014 & 0.676\\\\\n",
       "\\end{tabular}\n"
      ],
      "text/markdown": [
       "\n",
       "A data.frame: 14 × 5\n",
       "\n",
       "| <!--/--> | sacm$columns[, c(1)] &lt;fct&gt; |  k=1 &lt;dbl&gt; |  k=2 &lt;dbl&gt; | cor &lt;dbl&gt; | cor.1 &lt;dbl&gt; |\n",
       "|---|---|---|---|---|---|\n",
       "| 1 | edad:joven         | -0.823 |  0.017 | 0.226 | 0.000 |\n",
       "| 2 | edad:adulto        |  0.988 | -0.087 | 0.526 | 0.004 |\n",
       "| 3 | edad:anciano       | -0.350 |  0.066 | 0.082 | 0.003 |\n",
       "| 4 | sexo:masculino     | -0.507 | -0.376 | 0.257 | 0.141 |\n",
       "| 5 | sexo:femenino      |  0.507 |  0.376 | 0.257 | 0.141 |\n",
       "| 6 | esco:primaria      | -0.259 | -1.686 | 0.017 | 0.710 |\n",
       "| 7 | esco:secundaria    |  0.717 |  0.218 | 0.421 | 0.039 |\n",
       "| 8 | esco:universitaria | -1.166 |  0.850 | 0.340 | 0.180 |\n",
       "| 9 | esco:otra          | -0.252 |  0.460 | 0.011 | 0.037 |\n",
       "| 10 | econ:bajo          | -0.180 | -1.931 | 0.006 | 0.658 |\n",
       "| 11 | econ:medio         |  0.483 |  0.220 | 0.433 | 0.090 |\n",
       "| 12 | econ:alto          | -1.434 |  0.734 | 0.514 | 0.135 |\n",
       "| 13 | (*)vvda:si         |  0.034 |  0.230 | 0.014 | 0.676 |\n",
       "| 14 | (*)vvda:no         | -0.101 | -0.690 | 0.014 | 0.676 |\n",
       "\n"
      ],
      "text/plain": [
       "   sacm$columns[, c(1)]  k=1    k=2   cor   cor.1\n",
       "1  edad:joven           -0.823  0.017 0.226 0.000\n",
       "2  edad:adulto           0.988 -0.087 0.526 0.004\n",
       "3  edad:anciano         -0.350  0.066 0.082 0.003\n",
       "4  sexo:masculino       -0.507 -0.376 0.257 0.141\n",
       "5  sexo:femenino         0.507  0.376 0.257 0.141\n",
       "6  esco:primaria        -0.259 -1.686 0.017 0.710\n",
       "7  esco:secundaria       0.717  0.218 0.421 0.039\n",
       "8  esco:universitaria   -1.166  0.850 0.340 0.180\n",
       "9  esco:otra            -0.252  0.460 0.011 0.037\n",
       "10 econ:bajo            -0.180 -1.931 0.006 0.658\n",
       "11 econ:medio            0.483  0.220 0.433 0.090\n",
       "12 econ:alto            -1.434  0.734 0.514 0.135\n",
       "13 (*)vvda:si            0.034  0.230 0.014 0.676\n",
       "14 (*)vvda:no           -0.101 -0.690 0.014 0.676"
      ]
     },
     "metadata": {},
     "output_type": "display_data"
    }
   ],
   "source": [
    "cbind(sacm$columns[,c(1)],sacm$columns[,c(5,8,6,9)]/1000)"
   ]
  },
  {
   "cell_type": "code",
   "execution_count": 20,
   "metadata": {},
   "outputs": [
    {
     "data": {
      "image/png": "[encoded data removed]",
      "text/plain": [
       "plot without title"
      ]
     },
     "metadata": {
      "image/png": {
       "height": 420,
       "width": 420
      },
      "text/plain": {
       "height": 420,
       "width": 420
      }
     },
     "output_type": "display_data"
    }
   ],
   "source": [
    "plot(acm)"
   ]
  },
  {
   "cell_type": "code",
   "execution_count": 17,
   "metadata": {},
   "outputs": [
    {
     "data": {
      "text/html": [
       "<table>\n",
       "<caption>A matrix: 14 × 14 of type dbl</caption>\n",
       "<thead>\n",
       "\t<tr><th></th><th scope=col>edad:joven</th><th scope=col>edad:adulto</th><th scope=col>edad:anciano</th><th scope=col>sexo:masculino</th><th scope=col>sexo:femenino</th><th scope=col>esco:primaria</th><th scope=col>esco:secundaria</th><th scope=col>esco:universitaria</th><th scope=col>esco:otra</th><th scope=col>econ:bajo</th><th scope=col>econ:medio</th><th scope=col>econ:alto</th><th scope=col>vvda:si</th><th scope=col>vvda:no</th></tr>\n",
       "</thead>\n",
       "<tbody>\n",
       "\t<tr><th scope=row>edad:joven</th><td>5</td><td>0</td><td>0</td><td> 3</td><td> 2</td><td>1</td><td>2</td><td>2</td><td>0</td><td>1</td><td> 2</td><td>2</td><td> 3</td><td>2</td></tr>\n",
       "\t<tr><th scope=row>edad:adulto</th><td>0</td><td>7</td><td>0</td><td> 3</td><td> 4</td><td>1</td><td>5</td><td>0</td><td>1</td><td>1</td><td> 6</td><td>0</td><td> 5</td><td>2</td></tr>\n",
       "\t<tr><th scope=row>edad:anciano</th><td>0</td><td>0</td><td>8</td><td> 4</td><td> 4</td><td>2</td><td>2</td><td>2</td><td>2</td><td>1</td><td> 5</td><td>2</td><td> 7</td><td>1</td></tr>\n",
       "\t<tr><th scope=row>sexo:masculino</th><td>3</td><td>3</td><td>4</td><td>10</td><td> 0</td><td>3</td><td>3</td><td>2</td><td>2</td><td>2</td><td> 5</td><td>3</td><td> 6</td><td>4</td></tr>\n",
       "\t<tr><th scope=row>sexo:femenino</th><td>2</td><td>4</td><td>4</td><td> 0</td><td>10</td><td>1</td><td>6</td><td>2</td><td>1</td><td>1</td><td> 8</td><td>1</td><td> 9</td><td>1</td></tr>\n",
       "\t<tr><th scope=row>esco:primaria</th><td>1</td><td>1</td><td>2</td><td> 3</td><td> 1</td><td>4</td><td>0</td><td>0</td><td>0</td><td>2</td><td> 2</td><td>0</td><td> 2</td><td>2</td></tr>\n",
       "\t<tr><th scope=row>esco:secundaria</th><td>2</td><td>5</td><td>2</td><td> 3</td><td> 6</td><td>0</td><td>9</td><td>0</td><td>0</td><td>1</td><td> 7</td><td>1</td><td> 6</td><td>3</td></tr>\n",
       "\t<tr><th scope=row>esco:universitaria</th><td>2</td><td>0</td><td>2</td><td> 2</td><td> 2</td><td>0</td><td>0</td><td>4</td><td>0</td><td>0</td><td> 2</td><td>2</td><td> 4</td><td>0</td></tr>\n",
       "\t<tr><th scope=row>esco:otra</th><td>0</td><td>1</td><td>2</td><td> 2</td><td> 1</td><td>0</td><td>0</td><td>0</td><td>3</td><td>0</td><td> 2</td><td>1</td><td> 3</td><td>0</td></tr>\n",
       "\t<tr><th scope=row>econ:bajo</th><td>1</td><td>1</td><td>1</td><td> 2</td><td> 1</td><td>2</td><td>1</td><td>0</td><td>0</td><td>3</td><td> 0</td><td>0</td><td> 0</td><td>3</td></tr>\n",
       "\t<tr><th scope=row>econ:medio</th><td>2</td><td>6</td><td>5</td><td> 5</td><td> 8</td><td>2</td><td>7</td><td>2</td><td>2</td><td>0</td><td>13</td><td>0</td><td>12</td><td>1</td></tr>\n",
       "\t<tr><th scope=row>econ:alto</th><td>2</td><td>0</td><td>2</td><td> 3</td><td> 1</td><td>0</td><td>1</td><td>2</td><td>1</td><td>0</td><td> 0</td><td>4</td><td> 3</td><td>1</td></tr>\n",
       "\t<tr><th scope=row>vvda:si</th><td>3</td><td>5</td><td>7</td><td> 6</td><td> 9</td><td>2</td><td>6</td><td>4</td><td>3</td><td>0</td><td>12</td><td>3</td><td>15</td><td>0</td></tr>\n",
       "\t<tr><th scope=row>vvda:no</th><td>2</td><td>2</td><td>1</td><td> 4</td><td> 1</td><td>2</td><td>3</td><td>0</td><td>0</td><td>3</td><td> 1</td><td>1</td><td> 0</td><td>5</td></tr>\n",
       "</tbody>\n",
       "</table>\n"
      ],
      "text/latex": [
       "A matrix: 14 × 14 of type dbl\n",
       "\\begin{tabular}{r|llllllllllllll}\n",
       "  & edad:joven & edad:adulto & edad:anciano & sexo:masculino & sexo:femenino & esco:primaria & esco:secundaria & esco:universitaria & esco:otra & econ:bajo & econ:medio & econ:alto & vvda:si & vvda:no\\\\\n",
       "\\hline\n",
       "\tedad:joven & 5 & 0 & 0 &  3 &  2 & 1 & 2 & 2 & 0 & 1 &  2 & 2 &  3 & 2\\\\\n",
       "\tedad:adulto & 0 & 7 & 0 &  3 &  4 & 1 & 5 & 0 & 1 & 1 &  6 & 0 &  5 & 2\\\\\n",
       "\tedad:anciano & 0 & 0 & 8 &  4 &  4 & 2 & 2 & 2 & 2 & 1 &  5 & 2 &  7 & 1\\\\\n",
       "\tsexo:masculino & 3 & 3 & 4 & 10 &  0 & 3 & 3 & 2 & 2 & 2 &  5 & 3 &  6 & 4\\\\\n",
       "\tsexo:femenino & 2 & 4 & 4 &  0 & 10 & 1 & 6 & 2 & 1 & 1 &  8 & 1 &  9 & 1\\\\\n",
       "\tesco:primaria & 1 & 1 & 2 &  3 &  1 & 4 & 0 & 0 & 0 & 2 &  2 & 0 &  2 & 2\\\\\n",
       "\tesco:secundaria & 2 & 5 & 2 &  3 &  6 & 0 & 9 & 0 & 0 & 1 &  7 & 1 &  6 & 3\\\\\n",
       "\tesco:universitaria & 2 & 0 & 2 &  2 &  2 & 0 & 0 & 4 & 0 & 0 &  2 & 2 &  4 & 0\\\\\n",
       "\tesco:otra & 0 & 1 & 2 &  2 &  1 & 0 & 0 & 0 & 3 & 0 &  2 & 1 &  3 & 0\\\\\n",
       "\tecon:bajo & 1 & 1 & 1 &  2 &  1 & 2 & 1 & 0 & 0 & 3 &  0 & 0 &  0 & 3\\\\\n",
       "\tecon:medio & 2 & 6 & 5 &  5 &  8 & 2 & 7 & 2 & 2 & 0 & 13 & 0 & 12 & 1\\\\\n",
       "\tecon:alto & 2 & 0 & 2 &  3 &  1 & 0 & 1 & 2 & 1 & 0 &  0 & 4 &  3 & 1\\\\\n",
       "\tvvda:si & 3 & 5 & 7 &  6 &  9 & 2 & 6 & 4 & 3 & 0 & 12 & 3 & 15 & 0\\\\\n",
       "\tvvda:no & 2 & 2 & 1 &  4 &  1 & 2 & 3 & 0 & 0 & 3 &  1 & 1 &  0 & 5\\\\\n",
       "\\end{tabular}\n"
      ],
      "text/markdown": [
       "\n",
       "A matrix: 14 × 14 of type dbl\n",
       "\n",
       "| <!--/--> | edad:joven | edad:adulto | edad:anciano | sexo:masculino | sexo:femenino | esco:primaria | esco:secundaria | esco:universitaria | esco:otra | econ:bajo | econ:medio | econ:alto | vvda:si | vvda:no |\n",
       "|---|---|---|---|---|---|---|---|---|---|---|---|---|---|---|\n",
       "| edad:joven | 5 | 0 | 0 |  3 |  2 | 1 | 2 | 2 | 0 | 1 |  2 | 2 |  3 | 2 |\n",
       "| edad:adulto | 0 | 7 | 0 |  3 |  4 | 1 | 5 | 0 | 1 | 1 |  6 | 0 |  5 | 2 |\n",
       "| edad:anciano | 0 | 0 | 8 |  4 |  4 | 2 | 2 | 2 | 2 | 1 |  5 | 2 |  7 | 1 |\n",
       "| sexo:masculino | 3 | 3 | 4 | 10 |  0 | 3 | 3 | 2 | 2 | 2 |  5 | 3 |  6 | 4 |\n",
       "| sexo:femenino | 2 | 4 | 4 |  0 | 10 | 1 | 6 | 2 | 1 | 1 |  8 | 1 |  9 | 1 |\n",
       "| esco:primaria | 1 | 1 | 2 |  3 |  1 | 4 | 0 | 0 | 0 | 2 |  2 | 0 |  2 | 2 |\n",
       "| esco:secundaria | 2 | 5 | 2 |  3 |  6 | 0 | 9 | 0 | 0 | 1 |  7 | 1 |  6 | 3 |\n",
       "| esco:universitaria | 2 | 0 | 2 |  2 |  2 | 0 | 0 | 4 | 0 | 0 |  2 | 2 |  4 | 0 |\n",
       "| esco:otra | 0 | 1 | 2 |  2 |  1 | 0 | 0 | 0 | 3 | 0 |  2 | 1 |  3 | 0 |\n",
       "| econ:bajo | 1 | 1 | 1 |  2 |  1 | 2 | 1 | 0 | 0 | 3 |  0 | 0 |  0 | 3 |\n",
       "| econ:medio | 2 | 6 | 5 |  5 |  8 | 2 | 7 | 2 | 2 | 0 | 13 | 0 | 12 | 1 |\n",
       "| econ:alto | 2 | 0 | 2 |  3 |  1 | 0 | 1 | 2 | 1 | 0 |  0 | 4 |  3 | 1 |\n",
       "| vvda:si | 3 | 5 | 7 |  6 |  9 | 2 | 6 | 4 | 3 | 0 | 12 | 3 | 15 | 0 |\n",
       "| vvda:no | 2 | 2 | 1 |  4 |  1 | 2 | 3 | 0 | 0 | 3 |  1 | 1 |  0 | 5 |\n",
       "\n"
      ],
      "text/plain": [
       "                   edad:joven edad:adulto edad:anciano sexo:masculino\n",
       "edad:joven         5          0           0             3            \n",
       "edad:adulto        0          7           0             3            \n",
       "edad:anciano       0          0           8             4            \n",
       "sexo:masculino     3          3           4            10            \n",
       "sexo:femenino      2          4           4             0            \n",
       "esco:primaria      1          1           2             3            \n",
       "esco:secundaria    2          5           2             3            \n",
       "esco:universitaria 2          0           2             2            \n",
       "esco:otra          0          1           2             2            \n",
       "econ:bajo          1          1           1             2            \n",
       "econ:medio         2          6           5             5            \n",
       "econ:alto          2          0           2             3            \n",
       "vvda:si            3          5           7             6            \n",
       "vvda:no            2          2           1             4            \n",
       "                   sexo:femenino esco:primaria esco:secundaria\n",
       "edad:joven          2            1             2              \n",
       "edad:adulto         4            1             5              \n",
       "edad:anciano        4            2             2              \n",
       "sexo:masculino      0            3             3              \n",
       "sexo:femenino      10            1             6              \n",
       "esco:primaria       1            4             0              \n",
       "esco:secundaria     6            0             9              \n",
       "esco:universitaria  2            0             0              \n",
       "esco:otra           1            0             0              \n",
       "econ:bajo           1            2             1              \n",
       "econ:medio          8            2             7              \n",
       "econ:alto           1            0             1              \n",
       "vvda:si             9            2             6              \n",
       "vvda:no             1            2             3              \n",
       "                   esco:universitaria esco:otra econ:bajo econ:medio econ:alto\n",
       "edad:joven         2                  0         1          2         2        \n",
       "edad:adulto        0                  1         1          6         0        \n",
       "edad:anciano       2                  2         1          5         2        \n",
       "sexo:masculino     2                  2         2          5         3        \n",
       "sexo:femenino      2                  1         1          8         1        \n",
       "esco:primaria      0                  0         2          2         0        \n",
       "esco:secundaria    0                  0         1          7         1        \n",
       "esco:universitaria 4                  0         0          2         2        \n",
       "esco:otra          0                  3         0          2         1        \n",
       "econ:bajo          0                  0         3          0         0        \n",
       "econ:medio         2                  2         0         13         0        \n",
       "econ:alto          2                  1         0          0         4        \n",
       "vvda:si            4                  3         0         12         3        \n",
       "vvda:no            0                  0         3          1         1        \n",
       "                   vvda:si vvda:no\n",
       "edad:joven          3      2      \n",
       "edad:adulto         5      2      \n",
       "edad:anciano        7      1      \n",
       "sexo:masculino      6      4      \n",
       "sexo:femenino       9      1      \n",
       "esco:primaria       2      2      \n",
       "esco:secundaria     6      3      \n",
       "esco:universitaria  4      0      \n",
       "esco:otra           3      0      \n",
       "econ:bajo           0      3      \n",
       "econ:medio         12      1      \n",
       "econ:alto           3      1      \n",
       "vvda:si            15      0      \n",
       "vvda:no             0      5      "
      ]
     },
     "metadata": {},
     "output_type": "display_data"
    }
   ],
   "source": [
    "acm$Burt"
   ]
  },
  {
   "cell_type": "code",
   "execution_count": null,
   "metadata": {},
   "outputs": [],
   "source": []
  }
 ],
 "metadata": {
  "kernelspec": {
   "display_name": "R",
   "language": "R",
   "name": "ir"
  },
  "language_info": {
   "codemirror_mode": "r",
   "file_extension": ".r",
   "mimetype": "text/x-r-source",
   "name": "R",
   "pygments_lexer": "r",
   "version": "3.6.2"
  },
  "toc": {
   "base_numbering": 1,
   "nav_menu": {},
   "number_sections": false,
   "sideBar": true,
   "skip_h1_title": false,
   "title_cell": "Table of Contents",
   "title_sidebar": "Contents",
   "toc_cell": false,
   "toc_position": {},
   "toc_section_display": true,
   "toc_window_display": false
  }
 },
 "nbformat": 4,
 "nbformat_minor": 2
}
