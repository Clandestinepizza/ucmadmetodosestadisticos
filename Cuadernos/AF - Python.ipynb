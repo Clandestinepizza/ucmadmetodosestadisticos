{
 "cells": [
  {
   "cell_type": "code",
   "execution_count": 1,
   "metadata": {},
   "outputs": [],
   "source": [
    "import numpy as np\n",
    "A=np.array([[0.8,0.2],[0.7,0.3],[0.6,0.3],[0.2,0.8],[0.15,0.82],[0.25,0.85]])"
   ]
  },
  {
   "cell_type": "code",
   "execution_count": 2,
   "metadata": {},
   "outputs": [
    {
     "data": {
      "text/plain": [
       "array([[0.8 , 0.2 ],\n",
       "       [0.7 , 0.3 ],\n",
       "       [0.6 , 0.3 ],\n",
       "       [0.2 , 0.8 ],\n",
       "       [0.15, 0.82],\n",
       "       [0.25, 0.85]])"
      ]
     },
     "execution_count": 2,
     "metadata": {},
     "output_type": "execute_result"
    }
   ],
   "source": [
    "A"
   ]
  },
  {
   "cell_type": "code",
   "execution_count": 3,
   "metadata": {},
   "outputs": [
    {
     "data": {
      "text/plain": [
       "array([[0.68  , 0.62  , 0.54  , 0.32  , 0.284 , 0.37  ],\n",
       "       [0.62  , 0.58  , 0.51  , 0.38  , 0.351 , 0.43  ],\n",
       "       [0.54  , 0.51  , 0.45  , 0.36  , 0.336 , 0.405 ],\n",
       "       [0.32  , 0.38  , 0.36  , 0.68  , 0.686 , 0.73  ],\n",
       "       [0.284 , 0.351 , 0.336 , 0.686 , 0.6949, 0.7345],\n",
       "       [0.37  , 0.43  , 0.405 , 0.73  , 0.7345, 0.785 ]])"
      ]
     },
     "execution_count": 3,
     "metadata": {},
     "output_type": "execute_result"
    }
   ],
   "source": [
    "A.dot(np.transpose(A))"
   ]
  },
  {
   "cell_type": "code",
   "execution_count": null,
   "metadata": {},
   "outputs": [],
   "source": []
  }
 ],
 "metadata": {
  "kernelspec": {
   "display_name": "Python 3",
   "language": "python",
   "name": "python3"
  },
  "language_info": {
   "codemirror_mode": {
    "name": "ipython",
    "version": 3
   },
   "file_extension": ".py",
   "mimetype": "text/x-python",
   "name": "python",
   "nbconvert_exporter": "python",
   "pygments_lexer": "ipython3",
   "version": "3.7.6"
  }
 },
 "nbformat": 4,
 "nbformat_minor": 2
}
