{
 "cells": [
  {
   "cell_type": "markdown",
   "metadata": {},
   "source": [
    "# Analisis descriptivo multivariado\n",
    "\n",
    "**Universidad Central**\n",
    "\n",
    "*Nelson Alirio Cruz, Isaac Zainea*\n",
    "\n",
    "Usando este cuaderno de jupyter y un núcleo de R haremos una rápida exploración de los datos nutritivos de algunos cereales, este cuaderno está alojado . "
   ]
  },
  {
   "cell_type": "code",
   "execution_count": 18,
   "metadata": {},
   "outputs": [],
   "source": [
    "Datos=read.csv2(\"https://raw.githubusercontent.com/Izainea/ucmadmetodosestadisticos/master/Bases/cereal.csv\")\n"
   ]
  },
  {
   "cell_type": "code",
   "execution_count": 19,
   "metadata": {},
   "outputs": [
    {
     "data": {
      "text/html": [
       "<table>\n",
       "<caption>A data.frame: 6 × 16</caption>\n",
       "<thead>\n",
       "\t<tr><th></th><th scope=col>name</th><th scope=col>mfr</th><th scope=col>type</th><th scope=col>calories</th><th scope=col>protein</th><th scope=col>fat</th><th scope=col>sodium</th><th scope=col>fiber</th><th scope=col>carbo</th><th scope=col>sugars</th><th scope=col>potass</th><th scope=col>vitamins</th><th scope=col>shelf</th><th scope=col>weight</th><th scope=col>cups</th><th scope=col>rating</th></tr>\n",
       "\t<tr><th></th><th scope=col>&lt;fct&gt;</th><th scope=col>&lt;fct&gt;</th><th scope=col>&lt;fct&gt;</th><th scope=col>&lt;int&gt;</th><th scope=col>&lt;int&gt;</th><th scope=col>&lt;int&gt;</th><th scope=col>&lt;int&gt;</th><th scope=col>&lt;fct&gt;</th><th scope=col>&lt;fct&gt;</th><th scope=col>&lt;int&gt;</th><th scope=col>&lt;int&gt;</th><th scope=col>&lt;int&gt;</th><th scope=col>&lt;int&gt;</th><th scope=col>&lt;fct&gt;</th><th scope=col>&lt;fct&gt;</th><th scope=col>&lt;fct&gt;</th></tr>\n",
       "</thead>\n",
       "<tbody>\n",
       "\t<tr><th scope=row>1</th><td>100% Bran                </td><td>N</td><td>C</td><td> 70</td><td>4</td><td>1</td><td>130</td><td>10 </td><td>5   </td><td> 6</td><td>280</td><td>25</td><td>3</td><td>1</td><td>0.33</td><td>68.402973</td></tr>\n",
       "\t<tr><th scope=row>2</th><td>100% Natural Bran        </td><td>Q</td><td>C</td><td>120</td><td>3</td><td>5</td><td> 15</td><td>2  </td><td>8   </td><td> 8</td><td>135</td><td> 0</td><td>3</td><td>1</td><td>1   </td><td>33.983679</td></tr>\n",
       "\t<tr><th scope=row>3</th><td>All-Bran                 </td><td>K</td><td>C</td><td> 70</td><td>4</td><td>1</td><td>260</td><td>9  </td><td>7   </td><td> 5</td><td>320</td><td>25</td><td>3</td><td>1</td><td>0.33</td><td>59.425505</td></tr>\n",
       "\t<tr><th scope=row>4</th><td>All-Bran with Extra Fiber</td><td>K</td><td>C</td><td> 50</td><td>4</td><td>0</td><td>140</td><td>14 </td><td>8   </td><td> 0</td><td>330</td><td>25</td><td>3</td><td>1</td><td>0.5 </td><td>93.704912</td></tr>\n",
       "\t<tr><th scope=row>5</th><td>Almond Delight           </td><td>R</td><td>C</td><td>110</td><td>2</td><td>2</td><td>200</td><td>1  </td><td>14  </td><td> 8</td><td> -1</td><td>25</td><td>3</td><td>1</td><td>0.75</td><td>34.384843</td></tr>\n",
       "\t<tr><th scope=row>6</th><td>Apple Cinnamon Cheerios  </td><td>G</td><td>C</td><td>110</td><td>2</td><td>2</td><td>180</td><td>1.5</td><td>10.5</td><td>10</td><td> 70</td><td>25</td><td>1</td><td>1</td><td>0.75</td><td>29.509541</td></tr>\n",
       "</tbody>\n",
       "</table>\n"
      ],
      "text/latex": [
       "A data.frame: 6 × 16\n",
       "\\begin{tabular}{r|llllllllllllllll}\n",
       "  & name & mfr & type & calories & protein & fat & sodium & fiber & carbo & sugars & potass & vitamins & shelf & weight & cups & rating\\\\\n",
       "  & <fct> & <fct> & <fct> & <int> & <int> & <int> & <int> & <fct> & <fct> & <int> & <int> & <int> & <int> & <fct> & <fct> & <fct>\\\\\n",
       "\\hline\n",
       "\t1 & 100\\% Bran                 & N & C &  70 & 4 & 1 & 130 & 10  & 5    &  6 & 280 & 25 & 3 & 1 & 0.33 & 68.402973\\\\\n",
       "\t2 & 100\\% Natural Bran         & Q & C & 120 & 3 & 5 &  15 & 2   & 8    &  8 & 135 &  0 & 3 & 1 & 1    & 33.983679\\\\\n",
       "\t3 & All-Bran                  & K & C &  70 & 4 & 1 & 260 & 9   & 7    &  5 & 320 & 25 & 3 & 1 & 0.33 & 59.425505\\\\\n",
       "\t4 & All-Bran with Extra Fiber & K & C &  50 & 4 & 0 & 140 & 14  & 8    &  0 & 330 & 25 & 3 & 1 & 0.5  & 93.704912\\\\\n",
       "\t5 & Almond Delight            & R & C & 110 & 2 & 2 & 200 & 1   & 14   &  8 &  -1 & 25 & 3 & 1 & 0.75 & 34.384843\\\\\n",
       "\t6 & Apple Cinnamon Cheerios   & G & C & 110 & 2 & 2 & 180 & 1.5 & 10.5 & 10 &  70 & 25 & 1 & 1 & 0.75 & 29.509541\\\\\n",
       "\\end{tabular}\n"
      ],
      "text/markdown": [
       "\n",
       "A data.frame: 6 × 16\n",
       "\n",
       "| <!--/--> | name &lt;fct&gt; | mfr &lt;fct&gt; | type &lt;fct&gt; | calories &lt;int&gt; | protein &lt;int&gt; | fat &lt;int&gt; | sodium &lt;int&gt; | fiber &lt;fct&gt; | carbo &lt;fct&gt; | sugars &lt;int&gt; | potass &lt;int&gt; | vitamins &lt;int&gt; | shelf &lt;int&gt; | weight &lt;fct&gt; | cups &lt;fct&gt; | rating &lt;fct&gt; |\n",
       "|---|---|---|---|---|---|---|---|---|---|---|---|---|---|---|---|---|\n",
       "| 1 | 100% Bran                 | N | C |  70 | 4 | 1 | 130 | 10  | 5    |  6 | 280 | 25 | 3 | 1 | 0.33 | 68.402973 |\n",
       "| 2 | 100% Natural Bran         | Q | C | 120 | 3 | 5 |  15 | 2   | 8    |  8 | 135 |  0 | 3 | 1 | 1    | 33.983679 |\n",
       "| 3 | All-Bran                  | K | C |  70 | 4 | 1 | 260 | 9   | 7    |  5 | 320 | 25 | 3 | 1 | 0.33 | 59.425505 |\n",
       "| 4 | All-Bran with Extra Fiber | K | C |  50 | 4 | 0 | 140 | 14  | 8    |  0 | 330 | 25 | 3 | 1 | 0.5  | 93.704912 |\n",
       "| 5 | Almond Delight            | R | C | 110 | 2 | 2 | 200 | 1   | 14   |  8 |  -1 | 25 | 3 | 1 | 0.75 | 34.384843 |\n",
       "| 6 | Apple Cinnamon Cheerios   | G | C | 110 | 2 | 2 | 180 | 1.5 | 10.5 | 10 |  70 | 25 | 1 | 1 | 0.75 | 29.509541 |\n",
       "\n"
      ],
      "text/plain": [
       "  name                      mfr type calories protein fat sodium fiber carbo\n",
       "1 100% Bran                 N   C     70      4       1   130    10    5    \n",
       "2 100% Natural Bran         Q   C    120      3       5    15    2     8    \n",
       "3 All-Bran                  K   C     70      4       1   260    9     7    \n",
       "4 All-Bran with Extra Fiber K   C     50      4       0   140    14    8    \n",
       "5 Almond Delight            R   C    110      2       2   200    1     14   \n",
       "6 Apple Cinnamon Cheerios   G   C    110      2       2   180    1.5   10.5 \n",
       "  sugars potass vitamins shelf weight cups rating   \n",
       "1  6     280    25       3     1      0.33 68.402973\n",
       "2  8     135     0       3     1      1    33.983679\n",
       "3  5     320    25       3     1      0.33 59.425505\n",
       "4  0     330    25       3     1      0.5  93.704912\n",
       "5  8      -1    25       3     1      0.75 34.384843\n",
       "6 10      70    25       1     1      0.75 29.509541"
      ]
     },
     "metadata": {},
     "output_type": "display_data"
    }
   ],
   "source": [
    "head(Datos)"
   ]
  },
  {
   "cell_type": "markdown",
   "metadata": {},
   "source": [
    "Extraigamos las variables cuantitativas de la base."
   ]
  },
  {
   "cell_type": "code",
   "execution_count": 20,
   "metadata": {},
   "outputs": [
    {
     "name": "stdout",
     "output_type": "stream",
     "text": [
      "'data.frame':\t77 obs. of  13 variables:\n",
      " $ calories: int  70 120 70 50 110 110 110 130 90 90 ...\n",
      " $ protein : int  4 3 4 4 2 2 2 3 2 3 ...\n",
      " $ fat     : int  1 5 1 0 2 2 0 2 1 0 ...\n",
      " $ sodium  : int  130 15 260 140 200 180 125 210 200 210 ...\n",
      " $ fiber   : Factor w/ 13 levels \"0\",\"1\",\"1.5\",..: 4 6 13 5 2 3 2 6 10 11 ...\n",
      " $ carbo   : Factor w/ 22 levels \"-1\",\"10\",\"10.5\",..: 19 21 20 21 9 3 4 13 10 7 ...\n",
      " $ sugars  : int  6 8 5 0 8 10 14 8 6 5 ...\n",
      " $ potass  : int  280 135 320 330 -1 70 30 100 125 190 ...\n",
      " $ vitamins: int  25 0 25 25 25 25 25 25 25 25 ...\n",
      " $ shelf   : int  3 3 3 3 3 1 2 3 1 3 ...\n",
      " $ weight  : Factor w/ 7 levels \"0.5\",\"0.83\",\"1\",..: 3 3 3 3 3 3 3 6 3 3 ...\n",
      " $ cups    : Factor w/ 12 levels \"0.25\",\"0.33\",..: 2 8 2 3 5 5 8 5 4 4 ...\n",
      " $ rating  : Factor w/ 77 levels \"18.042851\",\"19.823573\",..: 74 21 68 77 23 12 20 30 54 62 ...\n"
     ]
    }
   ],
   "source": [
    "cuanti=subset(Datos, select=c(4:16))\n",
    "str(cuanti)"
   ]
  },
  {
   "cell_type": "code",
   "execution_count": 26,
   "metadata": {},
   "outputs": [
    {
     "name": "stdout",
     "output_type": "stream",
     "text": [
      "'data.frame':\t77 obs. of  8 variables:\n",
      " $ calories: int  70 120 70 50 110 110 110 130 90 90 ...\n",
      " $ protein : int  4 3 4 4 2 2 2 3 2 3 ...\n",
      " $ fat     : int  1 5 1 0 2 2 0 2 1 0 ...\n",
      " $ sodium  : int  130 15 260 140 200 180 125 210 200 210 ...\n",
      " $ sugars  : int  6 8 5 0 8 10 14 8 6 5 ...\n",
      " $ potass  : int  280 135 320 330 -1 70 30 100 125 190 ...\n",
      " $ vitamins: int  25 0 25 25 25 25 25 25 25 25 ...\n",
      " $ shelf   : int  3 3 3 3 3 1 2 3 1 3 ...\n"
     ]
    }
   ],
   "source": [
    "cuanti2=subset(Datos, select=c(4:7,10:13))\n",
    "str(cuanti2)"
   ]
  },
  {
   "cell_type": "markdown",
   "metadata": {},
   "source": [
    "## Matriz de covarianzas y de correlación\n",
    "\n",
    "Cuando se tiene un conjunto de variables cuantitativas, por cada par de ellas se calcula la covarianza:\n",
    "$Cov(X,Y)=\\frac{1}{n-1}\\sum_{i=1}^n (X_i-\\bar{X})(Y_i-\\bar{Y})$\n",
    "Estos valores conformaran la matriz de covarianzas.\n",
    "EL coeficiente de correlación lineal se define como:\n",
    "$\\rho_{XY}=\\frac{Cov(X;Y)}{sd(X)sd(Y)}$"
   ]
  },
  {
   "cell_type": "code",
   "execution_count": 27,
   "metadata": {},
   "outputs": [
    {
     "data": {
      "text/html": [
       "<table>\n",
       "<caption>A matrix: 8 × 8 of type dbl</caption>\n",
       "<thead>\n",
       "\t<tr><th></th><th scope=col>calories</th><th scope=col>protein</th><th scope=col>fat</th><th scope=col>sodium</th><th scope=col>sugars</th><th scope=col>potass</th><th scope=col>vitamins</th><th scope=col>shelf</th></tr>\n",
       "</thead>\n",
       "<tbody>\n",
       "\t<tr><th scope=row>calories</th><td>379.6308954</td><td> 0.4066986</td><td> 9.7778537</td><td> 491.0799727</td><td>48.7012987</td><td> -92.517088</td><td>115.5160629</td><td> 1.5772386</td></tr>\n",
       "\t<tr><th scope=row>protein</th><td>  0.4066986</td><td> 1.1985646</td><td> 0.2296651</td><td>  -5.0179426</td><td>-1.6016746</td><td>  42.877990</td><td>  0.1794258</td><td> 0.1220096</td></tr>\n",
       "\t<tr><th scope=row>fat</th><td>  9.7778537</td><td> 0.2296651</td><td> 1.0129870</td><td>  -0.4562543</td><td> 1.2115516</td><td>  13.867396</td><td> -0.7006152</td><td> 0.2209501</td></tr>\n",
       "\t<tr><th scope=row>sodium</th><td>491.0799727</td><td>-5.0179426</td><td>-0.4562543</td><td>7027.8537252</td><td>37.8033151</td><td>-194.842789</td><td>677.0548530</td><td>-4.8658578</td></tr>\n",
       "\t<tr><th scope=row>sugars</th><td> 48.7012987</td><td>-1.6016746</td><td> 1.2115516</td><td>  37.8033151</td><td>19.7570062</td><td>   6.874573</td><td> 12.4273753</td><td> 0.3716678</td></tr>\n",
       "\t<tr><th scope=row>potass</th><td>-92.5170882</td><td>42.8779904</td><td>13.8673958</td><td>-194.8427888</td><td> 6.8745728</td><td>5081.809638</td><td> 32.9673616</td><td>21.4046480</td></tr>\n",
       "\t<tr><th scope=row>vitamins</th><td>115.5160629</td><td> 0.1794258</td><td>-0.7006152</td><td> 677.0548530</td><td>12.4273753</td><td>  32.967362</td><td>499.1883117</td><td> 5.5664730</td></tr>\n",
       "\t<tr><th scope=row>shelf</th><td>  1.5772386</td><td> 0.1220096</td><td> 0.2209501</td><td>  -4.8658578</td><td> 0.3716678</td><td>  21.404648</td><td>  5.5664730</td><td> 0.6930964</td></tr>\n",
       "</tbody>\n",
       "</table>\n"
      ],
      "text/latex": [
       "A matrix: 8 × 8 of type dbl\n",
       "\\begin{tabular}{r|llllllll}\n",
       "  & calories & protein & fat & sodium & sugars & potass & vitamins & shelf\\\\\n",
       "\\hline\n",
       "\tcalories & 379.6308954 &  0.4066986 &  9.7778537 &  491.0799727 & 48.7012987 &  -92.517088 & 115.5160629 &  1.5772386\\\\\n",
       "\tprotein &   0.4066986 &  1.1985646 &  0.2296651 &   -5.0179426 & -1.6016746 &   42.877990 &   0.1794258 &  0.1220096\\\\\n",
       "\tfat &   9.7778537 &  0.2296651 &  1.0129870 &   -0.4562543 &  1.2115516 &   13.867396 &  -0.7006152 &  0.2209501\\\\\n",
       "\tsodium & 491.0799727 & -5.0179426 & -0.4562543 & 7027.8537252 & 37.8033151 & -194.842789 & 677.0548530 & -4.8658578\\\\\n",
       "\tsugars &  48.7012987 & -1.6016746 &  1.2115516 &   37.8033151 & 19.7570062 &    6.874573 &  12.4273753 &  0.3716678\\\\\n",
       "\tpotass & -92.5170882 & 42.8779904 & 13.8673958 & -194.8427888 &  6.8745728 & 5081.809638 &  32.9673616 & 21.4046480\\\\\n",
       "\tvitamins & 115.5160629 &  0.1794258 & -0.7006152 &  677.0548530 & 12.4273753 &   32.967362 & 499.1883117 &  5.5664730\\\\\n",
       "\tshelf &   1.5772386 &  0.1220096 &  0.2209501 &   -4.8658578 &  0.3716678 &   21.404648 &   5.5664730 &  0.6930964\\\\\n",
       "\\end{tabular}\n"
      ],
      "text/markdown": [
       "\n",
       "A matrix: 8 × 8 of type dbl\n",
       "\n",
       "| <!--/--> | calories | protein | fat | sodium | sugars | potass | vitamins | shelf |\n",
       "|---|---|---|---|---|---|---|---|---|\n",
       "| calories | 379.6308954 |  0.4066986 |  9.7778537 |  491.0799727 | 48.7012987 |  -92.517088 | 115.5160629 |  1.5772386 |\n",
       "| protein |   0.4066986 |  1.1985646 |  0.2296651 |   -5.0179426 | -1.6016746 |   42.877990 |   0.1794258 |  0.1220096 |\n",
       "| fat |   9.7778537 |  0.2296651 |  1.0129870 |   -0.4562543 |  1.2115516 |   13.867396 |  -0.7006152 |  0.2209501 |\n",
       "| sodium | 491.0799727 | -5.0179426 | -0.4562543 | 7027.8537252 | 37.8033151 | -194.842789 | 677.0548530 | -4.8658578 |\n",
       "| sugars |  48.7012987 | -1.6016746 |  1.2115516 |   37.8033151 | 19.7570062 |    6.874573 |  12.4273753 |  0.3716678 |\n",
       "| potass | -92.5170882 | 42.8779904 | 13.8673958 | -194.8427888 |  6.8745728 | 5081.809638 |  32.9673616 | 21.4046480 |\n",
       "| vitamins | 115.5160629 |  0.1794258 | -0.7006152 |  677.0548530 | 12.4273753 |   32.967362 | 499.1883117 |  5.5664730 |\n",
       "| shelf |   1.5772386 |  0.1220096 |  0.2209501 |   -4.8658578 |  0.3716678 |   21.404648 |   5.5664730 |  0.6930964 |\n",
       "\n"
      ],
      "text/plain": [
       "         calories    protein    fat        sodium       sugars     potass     \n",
       "calories 379.6308954  0.4066986  9.7778537  491.0799727 48.7012987  -92.517088\n",
       "protein    0.4066986  1.1985646  0.2296651   -5.0179426 -1.6016746   42.877990\n",
       "fat        9.7778537  0.2296651  1.0129870   -0.4562543  1.2115516   13.867396\n",
       "sodium   491.0799727 -5.0179426 -0.4562543 7027.8537252 37.8033151 -194.842789\n",
       "sugars    48.7012987 -1.6016746  1.2115516   37.8033151 19.7570062    6.874573\n",
       "potass   -92.5170882 42.8779904 13.8673958 -194.8427888  6.8745728 5081.809638\n",
       "vitamins 115.5160629  0.1794258 -0.7006152  677.0548530 12.4273753   32.967362\n",
       "shelf      1.5772386  0.1220096  0.2209501   -4.8658578  0.3716678   21.404648\n",
       "         vitamins    shelf     \n",
       "calories 115.5160629  1.5772386\n",
       "protein    0.1794258  0.1220096\n",
       "fat       -0.7006152  0.2209501\n",
       "sodium   677.0548530 -4.8658578\n",
       "sugars    12.4273753  0.3716678\n",
       "potass    32.9673616 21.4046480\n",
       "vitamins 499.1883117  5.5664730\n",
       "shelf      5.5664730  0.6930964"
      ]
     },
     "metadata": {},
     "output_type": "display_data"
    }
   ],
   "source": [
    "cov(cuanti2)"
   ]
  },
  {
   "cell_type": "markdown",
   "metadata": {},
   "source": [
    "Ahora calculamos la matriz de correlaciones:"
   ]
  },
  {
   "cell_type": "code",
   "execution_count": 30,
   "metadata": {},
   "outputs": [
    {
     "data": {
      "text/html": [
       "<table>\n",
       "<caption>A matrix: 8 × 8 of type dbl</caption>\n",
       "<thead>\n",
       "\t<tr><th></th><th scope=col>calories</th><th scope=col>protein</th><th scope=col>fat</th><th scope=col>sodium</th><th scope=col>sugars</th><th scope=col>potass</th><th scope=col>vitamins</th><th scope=col>shelf</th></tr>\n",
       "</thead>\n",
       "<tbody>\n",
       "\t<tr><th scope=row>calories</th><td> 1.00000000</td><td> 0.019066068</td><td> 0.498609814</td><td> 0.300649227</td><td> 0.56234029</td><td>-0.06660886</td><td> 0.265356298</td><td> 0.09723437</td></tr>\n",
       "\t<tr><th scope=row>protein</th><td> 0.01906607</td><td> 1.000000000</td><td> 0.208430990</td><td>-0.054674348</td><td>-0.32914178</td><td> 0.54940740</td><td> 0.007335371</td><td> 0.13386479</td></tr>\n",
       "\t<tr><th scope=row>fat</th><td> 0.49860981</td><td> 0.208430990</td><td> 1.000000000</td><td>-0.005407464</td><td> 0.27081918</td><td> 0.19327860</td><td>-0.031156266</td><td> 0.26369109</td></tr>\n",
       "\t<tr><th scope=row>sodium</th><td> 0.30064923</td><td>-0.054674348</td><td>-0.005407464</td><td> 1.000000000</td><td> 0.10145138</td><td>-0.03260347</td><td> 0.361476688</td><td>-0.06971902</td></tr>\n",
       "\t<tr><th scope=row>sugars</th><td> 0.56234029</td><td>-0.329141777</td><td> 0.270819175</td><td> 0.101451381</td><td> 1.00000000</td><td> 0.02169581</td><td> 0.125137260</td><td> 0.10043789</td></tr>\n",
       "\t<tr><th scope=row>potass</th><td>-0.06660886</td><td> 0.549407400</td><td> 0.193278602</td><td>-0.032603467</td><td> 0.02169581</td><td> 1.00000000</td><td> 0.020698687</td><td> 0.36066341</td></tr>\n",
       "\t<tr><th scope=row>vitamins</th><td> 0.26535630</td><td> 0.007335371</td><td>-0.031156266</td><td> 0.361476688</td><td> 0.12513726</td><td> 0.02069869</td><td> 1.000000000</td><td> 0.29926167</td></tr>\n",
       "\t<tr><th scope=row>shelf</th><td> 0.09723437</td><td> 0.133864789</td><td> 0.263691089</td><td>-0.069719015</td><td> 0.10043789</td><td> 0.36066341</td><td> 0.299261665</td><td> 1.00000000</td></tr>\n",
       "</tbody>\n",
       "</table>\n"
      ],
      "text/latex": [
       "A matrix: 8 × 8 of type dbl\n",
       "\\begin{tabular}{r|llllllll}\n",
       "  & calories & protein & fat & sodium & sugars & potass & vitamins & shelf\\\\\n",
       "\\hline\n",
       "\tcalories &  1.00000000 &  0.019066068 &  0.498609814 &  0.300649227 &  0.56234029 & -0.06660886 &  0.265356298 &  0.09723437\\\\\n",
       "\tprotein &  0.01906607 &  1.000000000 &  0.208430990 & -0.054674348 & -0.32914178 &  0.54940740 &  0.007335371 &  0.13386479\\\\\n",
       "\tfat &  0.49860981 &  0.208430990 &  1.000000000 & -0.005407464 &  0.27081918 &  0.19327860 & -0.031156266 &  0.26369109\\\\\n",
       "\tsodium &  0.30064923 & -0.054674348 & -0.005407464 &  1.000000000 &  0.10145138 & -0.03260347 &  0.361476688 & -0.06971902\\\\\n",
       "\tsugars &  0.56234029 & -0.329141777 &  0.270819175 &  0.101451381 &  1.00000000 &  0.02169581 &  0.125137260 &  0.10043789\\\\\n",
       "\tpotass & -0.06660886 &  0.549407400 &  0.193278602 & -0.032603467 &  0.02169581 &  1.00000000 &  0.020698687 &  0.36066341\\\\\n",
       "\tvitamins &  0.26535630 &  0.007335371 & -0.031156266 &  0.361476688 &  0.12513726 &  0.02069869 &  1.000000000 &  0.29926167\\\\\n",
       "\tshelf &  0.09723437 &  0.133864789 &  0.263691089 & -0.069719015 &  0.10043789 &  0.36066341 &  0.299261665 &  1.00000000\\\\\n",
       "\\end{tabular}\n"
      ],
      "text/markdown": [
       "\n",
       "A matrix: 8 × 8 of type dbl\n",
       "\n",
       "| <!--/--> | calories | protein | fat | sodium | sugars | potass | vitamins | shelf |\n",
       "|---|---|---|---|---|---|---|---|---|\n",
       "| calories |  1.00000000 |  0.019066068 |  0.498609814 |  0.300649227 |  0.56234029 | -0.06660886 |  0.265356298 |  0.09723437 |\n",
       "| protein |  0.01906607 |  1.000000000 |  0.208430990 | -0.054674348 | -0.32914178 |  0.54940740 |  0.007335371 |  0.13386479 |\n",
       "| fat |  0.49860981 |  0.208430990 |  1.000000000 | -0.005407464 |  0.27081918 |  0.19327860 | -0.031156266 |  0.26369109 |\n",
       "| sodium |  0.30064923 | -0.054674348 | -0.005407464 |  1.000000000 |  0.10145138 | -0.03260347 |  0.361476688 | -0.06971902 |\n",
       "| sugars |  0.56234029 | -0.329141777 |  0.270819175 |  0.101451381 |  1.00000000 |  0.02169581 |  0.125137260 |  0.10043789 |\n",
       "| potass | -0.06660886 |  0.549407400 |  0.193278602 | -0.032603467 |  0.02169581 |  1.00000000 |  0.020698687 |  0.36066341 |\n",
       "| vitamins |  0.26535630 |  0.007335371 | -0.031156266 |  0.361476688 |  0.12513726 |  0.02069869 |  1.000000000 |  0.29926167 |\n",
       "| shelf |  0.09723437 |  0.133864789 |  0.263691089 | -0.069719015 |  0.10043789 |  0.36066341 |  0.299261665 |  1.00000000 |\n",
       "\n"
      ],
      "text/plain": [
       "         calories    protein      fat          sodium       sugars     \n",
       "calories  1.00000000  0.019066068  0.498609814  0.300649227  0.56234029\n",
       "protein   0.01906607  1.000000000  0.208430990 -0.054674348 -0.32914178\n",
       "fat       0.49860981  0.208430990  1.000000000 -0.005407464  0.27081918\n",
       "sodium    0.30064923 -0.054674348 -0.005407464  1.000000000  0.10145138\n",
       "sugars    0.56234029 -0.329141777  0.270819175  0.101451381  1.00000000\n",
       "potass   -0.06660886  0.549407400  0.193278602 -0.032603467  0.02169581\n",
       "vitamins  0.26535630  0.007335371 -0.031156266  0.361476688  0.12513726\n",
       "shelf     0.09723437  0.133864789  0.263691089 -0.069719015  0.10043789\n",
       "         potass      vitamins     shelf      \n",
       "calories -0.06660886  0.265356298  0.09723437\n",
       "protein   0.54940740  0.007335371  0.13386479\n",
       "fat       0.19327860 -0.031156266  0.26369109\n",
       "sodium   -0.03260347  0.361476688 -0.06971902\n",
       "sugars    0.02169581  0.125137260  0.10043789\n",
       "potass    1.00000000  0.020698687  0.36066341\n",
       "vitamins  0.02069869  1.000000000  0.29926167\n",
       "shelf     0.36066341  0.299261665  1.00000000"
      ]
     },
     "metadata": {},
     "output_type": "display_data"
    }
   ],
   "source": [
    "cor(cuanti2)"
   ]
  },
  {
   "cell_type": "markdown",
   "metadata": {},
   "source": [
    "Veamos estos datos, usaremos [ggplot2](https://ggplot2.tidyverse.org/) y [reshape2](https://cran.r-project.org/web/packages/reshape2/index.html):"
   ]
  },
  {
   "cell_type": "code",
   "execution_count": 31,
   "metadata": {},
   "outputs": [],
   "source": [
    "library(reshape2)\n",
    "library(ggplot2)"
   ]
  },
  {
   "cell_type": "code",
   "execution_count": 33,
   "metadata": {},
   "outputs": [
    {
     "data": {
      "image/png": "[encoded data removed]",
      "text/plain": [
       "plot without title"
      ]
     },
     "metadata": {
      "image/png": {
       "height": 420,
       "width": 420
      },
      "text/plain": {
       "height": 420,
       "width": 420
      }
     },
     "output_type": "display_data"
    }
   ],
   "source": [
    "matriz=cor(cuanti2)\n",
    "matriz=melt(matriz)\n",
    "ggplot(matriz,aes(x=Var1, y=Var2, fill=value)) + \n",
    "  geom_tile()"
   ]
  },
  {
   "cell_type": "code",
   "execution_count": 34,
   "metadata": {},
   "outputs": [
    {
     "data": {
      "image/png": "[encoded data removed]",
      "text/plain": [
       "plot without title"
      ]
     },
     "metadata": {
      "image/png": {
       "height": 420,
       "width": 420
      },
      "text/plain": {
       "height": 420,
       "width": 420
      }
     },
     "output_type": "display_data"
    }
   ],
   "source": [
    "plot(cuanti2)"
   ]
  },
  {
   "cell_type": "code",
   "execution_count": 39,
   "metadata": {},
   "outputs": [
    {
     "data": {
      "image/png": "[encoded data removed]",
      "text/plain": [
       "plot without title"
      ]
     },
     "metadata": {
      "image/png": {
       "height": 420,
       "width": 420
      },
      "text/plain": {
       "height": 420,
       "width": 420
      }
     },
     "output_type": "display_data"
    }
   ],
   "source": [
    "p=ggplot(Datos, aes(x=calories, y=potass))\n",
    "p+geom_point()+geom_smooth(method=\"lm\")"
   ]
  },
  {
   "cell_type": "code",
   "execution_count": 38,
   "metadata": {},
   "outputs": [
    {
     "name": "stderr",
     "output_type": "stream",
     "text": [
      "`geom_smooth()` using method = 'loess' and formula 'y ~ x'\n",
      "\n"
     ]
    },
    {
     "data": {
      "image/png": "[encoded data removed]",
      "text/plain": [
       "plot without title"
      ]
     },
     "metadata": {
      "image/png": {
       "height": 420,
       "width": 420
      },
      "text/plain": {
       "height": 420,
       "width": 420
      }
     },
     "output_type": "display_data"
    }
   ],
   "source": [
    "p=ggplot(Datos, aes(x=calories, y=potass))\n",
    "p+geom_point()+geom_smooth()"
   ]
  },
  {
   "cell_type": "code",
   "execution_count": 40,
   "metadata": {},
   "outputs": [
    {
     "data": {
      "image/png": "[encoded data removed]",
      "text/plain": [
       "plot without title"
      ]
     },
     "metadata": {
      "image/png": {
       "height": 420,
       "width": 420
      },
      "text/plain": {
       "height": 420,
       "width": 420
      }
     },
     "output_type": "display_data"
    }
   ],
   "source": [
    "v <- ggplot(Datos, aes(calories, potass))\n",
    "v + geom_density_2d()"
   ]
  },
  {
   "cell_type": "markdown",
   "metadata": {},
   "source": [
    "## Tablas de contingencia\n",
    "\n",
    "Una tabla de contingencia contiene los conteos de una o más variables cualitativas."
   ]
  },
  {
   "cell_type": "code",
   "execution_count": 52,
   "metadata": {},
   "outputs": [],
   "source": [
    "Pregrados=read.csv(\"https://raw.githubusercontent.com/Izainea/ucmadmetodosestadisticos/master/Bases/Pregrado2019-2.csv\",fileEncoding=\"utf-8\")"
   ]
  },
  {
   "cell_type": "code",
   "execution_count": 53,
   "metadata": {},
   "outputs": [
    {
     "data": {
      "text/html": [
       "<table>\n",
       "<caption>A data.frame: 5992 × 14</caption>\n",
       "<thead>\n",
       "\t<tr><th scope=col>AÑO</th><th scope=col>PERIODO</th><th scope=col>ID_ESTUDIANTE</th><th scope=col>PRO_CONSECUTIVO</th><th scope=col>PROGRAMA_ESTUDIANTE</th><th scope=col>ID_PAIS_NACIMIENTO</th><th scope=col>ID_MUNICIPIO_NACIMIENTO</th><th scope=col>SEXO</th><th scope=col>SEMESTRE</th><th scope=col>ESTRATO</th><th scope=col>CIUDAD</th><th scope=col>CIRCUNSCRIPCIÓN</th><th scope=col>AÑO_INGRESO</th><th scope=col>PERIODO_INGRESO</th></tr>\n",
       "\t<tr><th scope=col>&lt;int&gt;</th><th scope=col>&lt;int&gt;</th><th scope=col>&lt;int&gt;</th><th scope=col>&lt;int&gt;</th><th scope=col>&lt;fct&gt;</th><th scope=col>&lt;int&gt;</th><th scope=col>&lt;int&gt;</th><th scope=col>&lt;fct&gt;</th><th scope=col>&lt;int&gt;</th><th scope=col>&lt;fct&gt;</th><th scope=col>&lt;fct&gt;</th><th scope=col>&lt;fct&gt;</th><th scope=col>&lt;int&gt;</th><th scope=col>&lt;int&gt;</th></tr>\n",
       "</thead>\n",
       "<tbody>\n",
       "\t<tr><td>2019</td><td>2</td><td> 1</td><td>51831</td><td>ADMINISTRACION DE EMPRESAS</td><td>170</td><td>70001</td><td>F</td><td>7</td><td>01         </td><td>SINCELEJO </td><td>REGULAR         </td><td>2016</td><td>1</td></tr>\n",
       "\t<tr><td>2019</td><td>2</td><td> 2</td><td>51831</td><td>ADMINISTRACION DE EMPRESAS</td><td>170</td><td>70001</td><td>M</td><td>1</td><td>02         </td><td>SINCELEJO </td><td>REGULAR         </td><td>2019</td><td>1</td></tr>\n",
       "\t<tr><td>2019</td><td>2</td><td> 3</td><td>51831</td><td>ADMINISTRACION DE EMPRESAS</td><td>170</td><td>70215</td><td>F</td><td>6</td><td>01         </td><td>COROZAL   </td><td>REGULAR         </td><td>2016</td><td>2</td></tr>\n",
       "\t<tr><td>2019</td><td>2</td><td> 4</td><td>51831</td><td>ADMINISTRACION DE EMPRESAS</td><td>170</td><td>70713</td><td>F</td><td>4</td><td>01         </td><td>SAN ONOFRE</td><td>REGULAR         </td><td>2017</td><td>1</td></tr>\n",
       "\t<tr><td>2019</td><td>2</td><td> 5</td><td>51831</td><td>ADMINISTRACION DE EMPRESAS</td><td>170</td><td>70001</td><td>M</td><td>7</td><td>No Registra</td><td>SINCELEJO </td><td>                </td><td>2011</td><td>2</td></tr>\n",
       "\t<tr><td>2019</td><td>2</td><td> 6</td><td>51831</td><td>ADMINISTRACION DE EMPRESAS</td><td>170</td><td>70001</td><td>F</td><td>6</td><td>01         </td><td>SINCELEJO </td><td>REGULAR         </td><td>2016</td><td>2</td></tr>\n",
       "\t<tr><td>2019</td><td>2</td><td> 7</td><td>51831</td><td>ADMINISTRACION DE EMPRESAS</td><td>170</td><td>70001</td><td>M</td><td>1</td><td>01         </td><td>SINCELEJO </td><td>REGULAR         </td><td>2019</td><td>1</td></tr>\n",
       "\t<tr><td>2019</td><td>2</td><td> 8</td><td>51831</td><td>ADMINISTRACION DE EMPRESAS</td><td>170</td><td>70001</td><td>M</td><td>3</td><td>01         </td><td>SINCELEJO </td><td>REGULAR         </td><td>2018</td><td>1</td></tr>\n",
       "\t<tr><td>2019</td><td>2</td><td> 9</td><td>51831</td><td>ADMINISTRACION DE EMPRESAS</td><td>170</td><td>70110</td><td>F</td><td>2</td><td>01         </td><td>BUENAVISTA</td><td>REGULAR         </td><td>2018</td><td>2</td></tr>\n",
       "\t<tr><td>2019</td><td>2</td><td>10</td><td>51831</td><td>ADMINISTRACION DE EMPRESAS</td><td>170</td><td>70001</td><td>M</td><td>5</td><td>02         </td><td>SINCELEJO </td><td>REGULAR         </td><td>2017</td><td>1</td></tr>\n",
       "\t<tr><td>2019</td><td>2</td><td>11</td><td>51831</td><td>ADMINISTRACION DE EMPRESAS</td><td>170</td><td>70001</td><td>F</td><td>8</td><td>01         </td><td>SINCELEJO </td><td>REGULAR         </td><td>2015</td><td>2</td></tr>\n",
       "\t<tr><td>2019</td><td>2</td><td>12</td><td>51831</td><td>ADMINISTRACION DE EMPRESAS</td><td>170</td><td>70001</td><td>F</td><td>5</td><td>01         </td><td>SINCELEJO </td><td>REGULAR         </td><td>2017</td><td>1</td></tr>\n",
       "\t<tr><td>2019</td><td>2</td><td>13</td><td>51831</td><td>ADMINISTRACION DE EMPRESAS</td><td>170</td><td>70001</td><td>M</td><td>7</td><td>01         </td><td>SINCELEJO </td><td>                </td><td>2017</td><td>2</td></tr>\n",
       "\t<tr><td>2019</td><td>2</td><td>14</td><td>51831</td><td>ADMINISTRACION DE EMPRESAS</td><td>170</td><td>70215</td><td>F</td><td>5</td><td>01         </td><td>COROZAL   </td><td>REGULAR         </td><td>2017</td><td>1</td></tr>\n",
       "\t<tr><td>2019</td><td>2</td><td>15</td><td>51831</td><td>ADMINISTRACION DE EMPRESAS</td><td>170</td><td>70001</td><td>F</td><td>5</td><td>           </td><td>SINCELEJO </td><td>                </td><td>2008</td><td>2</td></tr>\n",
       "\t<tr><td>2019</td><td>2</td><td>16</td><td>51831</td><td>ADMINISTRACION DE EMPRESAS</td><td>170</td><td>70473</td><td>F</td><td>1</td><td>02         </td><td>MORROA    </td><td>                </td><td>2011</td><td>2</td></tr>\n",
       "\t<tr><td>2019</td><td>2</td><td>17</td><td>51831</td><td>ADMINISTRACION DE EMPRESAS</td><td>170</td><td>70508</td><td>M</td><td>1</td><td>01         </td><td>OVEJAS    </td><td>REGULAR         </td><td>2019</td><td>1</td></tr>\n",
       "\t<tr><td>2019</td><td>2</td><td>18</td><td>51831</td><td>ADMINISTRACION DE EMPRESAS</td><td>170</td><td>70001</td><td>F</td><td>5</td><td>01         </td><td>SINCELEJO </td><td>                </td><td>2015</td><td>1</td></tr>\n",
       "\t<tr><td>2019</td><td>2</td><td>19</td><td>51831</td><td>ADMINISTRACION DE EMPRESAS</td><td>170</td><td>70001</td><td>M</td><td>2</td><td>01         </td><td>SINCELEJO </td><td>REGULAR         </td><td>2018</td><td>2</td></tr>\n",
       "\t<tr><td>2019</td><td>2</td><td>20</td><td>51831</td><td>ADMINISTRACION DE EMPRESAS</td><td>170</td><td>70001</td><td>M</td><td>7</td><td>No Registra</td><td>SINCELEJO </td><td>                </td><td>2014</td><td>1</td></tr>\n",
       "\t<tr><td>2019</td><td>2</td><td>21</td><td>51831</td><td>ADMINISTRACION DE EMPRESAS</td><td>170</td><td>70001</td><td>F</td><td>1</td><td>01         </td><td>SINCELEJO </td><td>REGULAR         </td><td>2019</td><td>1</td></tr>\n",
       "\t<tr><td>2019</td><td>2</td><td>22</td><td>51831</td><td>ADMINISTRACION DE EMPRESAS</td><td>170</td><td>70001</td><td>M</td><td>1</td><td>No Registra</td><td>SINCELEJO </td><td>                </td><td>2014</td><td>2</td></tr>\n",
       "\t<tr><td>2019</td><td>2</td><td>23</td><td>51831</td><td>ADMINISTRACION DE EMPRESAS</td><td>170</td><td>70708</td><td>M</td><td>1</td><td>01         </td><td>SAN MARCOS</td><td>REGULAR         </td><td>2019</td><td>1</td></tr>\n",
       "\t<tr><td>2019</td><td>2</td><td>24</td><td>51831</td><td>ADMINISTRACION DE EMPRESAS</td><td>170</td><td>70001</td><td>F</td><td>9</td><td>01         </td><td>SINCELEJO </td><td>REGULAR         </td><td>2015</td><td>2</td></tr>\n",
       "\t<tr><td>2019</td><td>2</td><td>25</td><td>51831</td><td>ADMINISTRACION DE EMPRESAS</td><td>170</td><td>13430</td><td>F</td><td>3</td><td>02         </td><td>MAGANGUE  </td><td>REGULAR         </td><td>2018</td><td>1</td></tr>\n",
       "\t<tr><td>2019</td><td>2</td><td>26</td><td>51831</td><td>ADMINISTRACION DE EMPRESAS</td><td>170</td><td>70001</td><td>F</td><td>6</td><td>01         </td><td>SINCELEJO </td><td>                </td><td>2017</td><td>2</td></tr>\n",
       "\t<tr><td>2019</td><td>2</td><td>27</td><td>51831</td><td>ADMINISTRACION DE EMPRESAS</td><td>170</td><td>70400</td><td>M</td><td>7</td><td>01         </td><td>LA UNION  </td><td>AFRODESCENDIENTE</td><td>2016</td><td>1</td></tr>\n",
       "\t<tr><td>2019</td><td>2</td><td>28</td><td>51831</td><td>ADMINISTRACION DE EMPRESAS</td><td>170</td><td>47707</td><td>F</td><td>1</td><td>01         </td><td>SANTA ANA </td><td>REGULAR         </td><td>2019</td><td>2</td></tr>\n",
       "\t<tr><td>2019</td><td>2</td><td>29</td><td>51831</td><td>ADMINISTRACION DE EMPRESAS</td><td>170</td><td>23182</td><td>M</td><td>2</td><td>01         </td><td>CHINU     </td><td>REGULAR         </td><td>2018</td><td>2</td></tr>\n",
       "\t<tr><td>2019</td><td>2</td><td>30</td><td>51831</td><td>ADMINISTRACION DE EMPRESAS</td><td>170</td><td>70001</td><td>M</td><td>3</td><td>02         </td><td>SINCELEJO </td><td>REGULAR         </td><td>2018</td><td>1</td></tr>\n",
       "\t<tr><td>...</td><td>...</td><td>...</td><td>...</td><td>...</td><td>...</td><td>...</td><td>...</td><td>...</td><td>...</td><td>...</td><td>...</td><td>...</td><td>...</td></tr>\n",
       "\t<tr><td>2019</td><td>2</td><td>5963</td><td>3251</td><td>ZOOTECNIA</td><td>170</td><td>70001</td><td>F</td><td> 1</td><td>01         </td><td>SINCELEJO           </td><td>REGULAR</td><td>2019</td><td>2</td></tr>\n",
       "\t<tr><td>2019</td><td>2</td><td>5964</td><td>3251</td><td>ZOOTECNIA</td><td>170</td><td>23580</td><td>M</td><td> 1</td><td>01         </td><td>PUERTO LIBERTADOR   </td><td>REGULAR</td><td>2019</td><td>2</td></tr>\n",
       "\t<tr><td>2019</td><td>2</td><td>5965</td><td>3251</td><td>ZOOTECNIA</td><td>170</td><td>13244</td><td>M</td><td> 1</td><td>No Registra</td><td>EL CARMEN DE BOLIVAR</td><td>REGULAR</td><td>2019</td><td>2</td></tr>\n",
       "\t<tr><td>2019</td><td>2</td><td>5966</td><td>3251</td><td>ZOOTECNIA</td><td>170</td><td>70823</td><td>M</td><td>10</td><td>No Registra</td><td>TOLU VIEJO          </td><td>       </td><td>2014</td><td>2</td></tr>\n",
       "\t<tr><td>2019</td><td>2</td><td>5967</td><td>3251</td><td>ZOOTECNIA</td><td>170</td><td>70823</td><td>M</td><td> 5</td><td>01         </td><td>TOLU VIEJO          </td><td>REGULAR</td><td>2015</td><td>1</td></tr>\n",
       "\t<tr><td>2019</td><td>2</td><td>5968</td><td>3251</td><td>ZOOTECNIA</td><td>170</td><td>70001</td><td>M</td><td> 1</td><td>02         </td><td>SINCELEJO           </td><td>REGULAR</td><td>2019</td><td>2</td></tr>\n",
       "\t<tr><td>2019</td><td>2</td><td>5969</td><td>3251</td><td>ZOOTECNIA</td><td>170</td><td>70001</td><td>F</td><td> 7</td><td>No Registra</td><td>SINCELEJO           </td><td>       </td><td>2012</td><td>2</td></tr>\n",
       "\t<tr><td>2019</td><td>2</td><td>5970</td><td>3251</td><td>ZOOTECNIA</td><td>170</td><td>70508</td><td>M</td><td> 5</td><td>01         </td><td>OVEJAS              </td><td>REGULAR</td><td>2016</td><td>2</td></tr>\n",
       "\t<tr><td>2019</td><td>2</td><td>5971</td><td>3251</td><td>ZOOTECNIA</td><td>170</td><td>23466</td><td>M</td><td> 1</td><td>01         </td><td>MONTELIBANO         </td><td>REGULAR</td><td>2019</td><td>2</td></tr>\n",
       "\t<tr><td>2019</td><td>2</td><td>5972</td><td>3251</td><td>ZOOTECNIA</td><td>170</td><td>70215</td><td>M</td><td> 3</td><td>02         </td><td>COROZAL             </td><td>REGULAR</td><td>2017</td><td>2</td></tr>\n",
       "\t<tr><td>2019</td><td>2</td><td>5973</td><td>3251</td><td>ZOOTECNIA</td><td>170</td><td>70001</td><td>M</td><td> 1</td><td>No Registra</td><td>SINCELEJO           </td><td>REGULAR</td><td>2019</td><td>2</td></tr>\n",
       "\t<tr><td>2019</td><td>2</td><td>5974</td><td>3251</td><td>ZOOTECNIA</td><td>170</td><td>70001</td><td>M</td><td> 4</td><td>01         </td><td>SINCELEJO           </td><td>REGULAR</td><td>2016</td><td>2</td></tr>\n",
       "\t<tr><td>2019</td><td>2</td><td>5975</td><td>3251</td><td>ZOOTECNIA</td><td>170</td><td>70215</td><td>M</td><td> 6</td><td>04         </td><td>COROZAL             </td><td>REGULAR</td><td>2016</td><td>2</td></tr>\n",
       "\t<tr><td>2019</td><td>2</td><td>5976</td><td>3251</td><td>ZOOTECNIA</td><td>170</td><td>70001</td><td>F</td><td> 5</td><td>01         </td><td>SINCELEJO           </td><td>REGULAR</td><td>2017</td><td>1</td></tr>\n",
       "\t<tr><td>2019</td><td>2</td><td>5977</td><td>3251</td><td>ZOOTECNIA</td><td>170</td><td>70001</td><td>F</td><td> 2</td><td>03         </td><td>SINCELEJO           </td><td>REGULAR</td><td>2017</td><td>1</td></tr>\n",
       "\t<tr><td>2019</td><td>2</td><td>5978</td><td>3251</td><td>ZOOTECNIA</td><td>170</td><td>70001</td><td>F</td><td> 7</td><td>No Registra</td><td>SINCELEJO           </td><td>       </td><td>2009</td><td>1</td></tr>\n",
       "\t<tr><td>2019</td><td>2</td><td>5979</td><td>3251</td><td>ZOOTECNIA</td><td>170</td><td>70670</td><td>M</td><td> 1</td><td>01         </td><td>SAMPUES             </td><td>REGULAR</td><td>2019</td><td>2</td></tr>\n",
       "\t<tr><td>2019</td><td>2</td><td>5980</td><td>3251</td><td>ZOOTECNIA</td><td>170</td><td>70001</td><td>F</td><td> 4</td><td>02         </td><td>SINCELEJO           </td><td>REGULAR</td><td>2017</td><td>2</td></tr>\n",
       "\t<tr><td>2019</td><td>2</td><td>5981</td><td>3251</td><td>ZOOTECNIA</td><td>170</td><td>70823</td><td>M</td><td> 4</td><td>01         </td><td>TOLU VIEJO          </td><td>REGULAR</td><td>2015</td><td>1</td></tr>\n",
       "\t<tr><td>2019</td><td>2</td><td>5982</td><td>3251</td><td>ZOOTECNIA</td><td>170</td><td>70670</td><td>F</td><td> 6</td><td>           </td><td>SAMPUES             </td><td>REGULAR</td><td>2016</td><td>1</td></tr>\n",
       "\t<tr><td>2019</td><td>2</td><td>5983</td><td>3251</td><td>ZOOTECNIA</td><td>170</td><td>70001</td><td>M</td><td> 5</td><td>01         </td><td>SINCELEJO           </td><td>REGULAR</td><td>2015</td><td>2</td></tr>\n",
       "\t<tr><td>2019</td><td>2</td><td>5984</td><td>3251</td><td>ZOOTECNIA</td><td>170</td><td> 8001</td><td>F</td><td> 1</td><td>03         </td><td>BARRANQUILLA        </td><td>REGULAR</td><td>2019</td><td>1</td></tr>\n",
       "\t<tr><td>2019</td><td>2</td><td>5985</td><td>3251</td><td>ZOOTECNIA</td><td>170</td><td>70771</td><td>F</td><td>10</td><td>No Registra</td><td>SUCRE               </td><td>       </td><td>2012</td><td>2</td></tr>\n",
       "\t<tr><td>2019</td><td>2</td><td>5986</td><td>3251</td><td>ZOOTECNIA</td><td>170</td><td>70001</td><td>M</td><td> 5</td><td>           </td><td>SINCELEJO           </td><td>       </td><td>2014</td><td>2</td></tr>\n",
       "\t<tr><td>2019</td><td>2</td><td>5987</td><td>3251</td><td>ZOOTECNIA</td><td>170</td><td>70001</td><td>M</td><td> 4</td><td>01         </td><td>SINCELEJO           </td><td>REGULAR</td><td>2017</td><td>2</td></tr>\n",
       "\t<tr><td>2019</td><td>2</td><td>5988</td><td>3251</td><td>ZOOTECNIA</td><td>170</td><td>70001</td><td>M</td><td> 1</td><td>01         </td><td>SINCELEJO           </td><td>REGULAR</td><td>2019</td><td>1</td></tr>\n",
       "\t<tr><td>2019</td><td>2</td><td>5989</td><td>3251</td><td>ZOOTECNIA</td><td>170</td><td>70708</td><td>M</td><td> 3</td><td>01         </td><td>SAN MARCOS          </td><td>REGULAR</td><td>2017</td><td>1</td></tr>\n",
       "\t<tr><td>2019</td><td>2</td><td>5990</td><td>3251</td><td>ZOOTECNIA</td><td>170</td><td> 8758</td><td>F</td><td> 2</td><td>02         </td><td>SOLEDAD             </td><td>REGULAR</td><td>2018</td><td>2</td></tr>\n",
       "\t<tr><td>2019</td><td>2</td><td>5991</td><td>3251</td><td>ZOOTECNIA</td><td>170</td><td> 8634</td><td>M</td><td> 1</td><td>01         </td><td>SABANAGRANDE        </td><td>REGULAR</td><td>2019</td><td>1</td></tr>\n",
       "\t<tr><td>2019</td><td>2</td><td>5992</td><td>3251</td><td>ZOOTECNIA</td><td>170</td><td>70001</td><td>F</td><td> 3</td><td>01         </td><td>SINCELEJO           </td><td>REGULAR</td><td>2017</td><td>1</td></tr>\n",
       "</tbody>\n",
       "</table>\n"
      ],
      "text/latex": [
       "A data.frame: 5992 × 14\n",
       "\\begin{tabular}{llllllllllllll}\n",
       " AÑO & PERIODO & ID\\_ESTUDIANTE & PRO\\_CONSECUTIVO & PROGRAMA\\_ESTUDIANTE & ID\\_PAIS\\_NACIMIENTO & ID\\_MUNICIPIO\\_NACIMIENTO & SEXO & SEMESTRE & ESTRATO & CIUDAD & CIRCUNSCRIPCIÓN & AÑO\\_INGRESO & PERIODO\\_INGRESO\\\\\n",
       " <int> & <int> & <int> & <int> & <fct> & <int> & <int> & <fct> & <int> & <fct> & <fct> & <fct> & <int> & <int>\\\\\n",
       "\\hline\n",
       "\t 2019 & 2 &  1 & 51831 & ADMINISTRACION DE EMPRESAS & 170 & 70001 & F & 7 & 01          & SINCELEJO  & REGULAR          & 2016 & 1\\\\\n",
       "\t 2019 & 2 &  2 & 51831 & ADMINISTRACION DE EMPRESAS & 170 & 70001 & M & 1 & 02          & SINCELEJO  & REGULAR          & 2019 & 1\\\\\n",
       "\t 2019 & 2 &  3 & 51831 & ADMINISTRACION DE EMPRESAS & 170 & 70215 & F & 6 & 01          & COROZAL    & REGULAR          & 2016 & 2\\\\\n",
       "\t 2019 & 2 &  4 & 51831 & ADMINISTRACION DE EMPRESAS & 170 & 70713 & F & 4 & 01          & SAN ONOFRE & REGULAR          & 2017 & 1\\\\\n",
       "\t 2019 & 2 &  5 & 51831 & ADMINISTRACION DE EMPRESAS & 170 & 70001 & M & 7 & No Registra & SINCELEJO  &                  & 2011 & 2\\\\\n",
       "\t 2019 & 2 &  6 & 51831 & ADMINISTRACION DE EMPRESAS & 170 & 70001 & F & 6 & 01          & SINCELEJO  & REGULAR          & 2016 & 2\\\\\n",
       "\t 2019 & 2 &  7 & 51831 & ADMINISTRACION DE EMPRESAS & 170 & 70001 & M & 1 & 01          & SINCELEJO  & REGULAR          & 2019 & 1\\\\\n",
       "\t 2019 & 2 &  8 & 51831 & ADMINISTRACION DE EMPRESAS & 170 & 70001 & M & 3 & 01          & SINCELEJO  & REGULAR          & 2018 & 1\\\\\n",
       "\t 2019 & 2 &  9 & 51831 & ADMINISTRACION DE EMPRESAS & 170 & 70110 & F & 2 & 01          & BUENAVISTA & REGULAR          & 2018 & 2\\\\\n",
       "\t 2019 & 2 & 10 & 51831 & ADMINISTRACION DE EMPRESAS & 170 & 70001 & M & 5 & 02          & SINCELEJO  & REGULAR          & 2017 & 1\\\\\n",
       "\t 2019 & 2 & 11 & 51831 & ADMINISTRACION DE EMPRESAS & 170 & 70001 & F & 8 & 01          & SINCELEJO  & REGULAR          & 2015 & 2\\\\\n",
       "\t 2019 & 2 & 12 & 51831 & ADMINISTRACION DE EMPRESAS & 170 & 70001 & F & 5 & 01          & SINCELEJO  & REGULAR          & 2017 & 1\\\\\n",
       "\t 2019 & 2 & 13 & 51831 & ADMINISTRACION DE EMPRESAS & 170 & 70001 & M & 7 & 01          & SINCELEJO  &                  & 2017 & 2\\\\\n",
       "\t 2019 & 2 & 14 & 51831 & ADMINISTRACION DE EMPRESAS & 170 & 70215 & F & 5 & 01          & COROZAL    & REGULAR          & 2017 & 1\\\\\n",
       "\t 2019 & 2 & 15 & 51831 & ADMINISTRACION DE EMPRESAS & 170 & 70001 & F & 5 &             & SINCELEJO  &                  & 2008 & 2\\\\\n",
       "\t 2019 & 2 & 16 & 51831 & ADMINISTRACION DE EMPRESAS & 170 & 70473 & F & 1 & 02          & MORROA     &                  & 2011 & 2\\\\\n",
       "\t 2019 & 2 & 17 & 51831 & ADMINISTRACION DE EMPRESAS & 170 & 70508 & M & 1 & 01          & OVEJAS     & REGULAR          & 2019 & 1\\\\\n",
       "\t 2019 & 2 & 18 & 51831 & ADMINISTRACION DE EMPRESAS & 170 & 70001 & F & 5 & 01          & SINCELEJO  &                  & 2015 & 1\\\\\n",
       "\t 2019 & 2 & 19 & 51831 & ADMINISTRACION DE EMPRESAS & 170 & 70001 & M & 2 & 01          & SINCELEJO  & REGULAR          & 2018 & 2\\\\\n",
       "\t 2019 & 2 & 20 & 51831 & ADMINISTRACION DE EMPRESAS & 170 & 70001 & M & 7 & No Registra & SINCELEJO  &                  & 2014 & 1\\\\\n",
       "\t 2019 & 2 & 21 & 51831 & ADMINISTRACION DE EMPRESAS & 170 & 70001 & F & 1 & 01          & SINCELEJO  & REGULAR          & 2019 & 1\\\\\n",
       "\t 2019 & 2 & 22 & 51831 & ADMINISTRACION DE EMPRESAS & 170 & 70001 & M & 1 & No Registra & SINCELEJO  &                  & 2014 & 2\\\\\n",
       "\t 2019 & 2 & 23 & 51831 & ADMINISTRACION DE EMPRESAS & 170 & 70708 & M & 1 & 01          & SAN MARCOS & REGULAR          & 2019 & 1\\\\\n",
       "\t 2019 & 2 & 24 & 51831 & ADMINISTRACION DE EMPRESAS & 170 & 70001 & F & 9 & 01          & SINCELEJO  & REGULAR          & 2015 & 2\\\\\n",
       "\t 2019 & 2 & 25 & 51831 & ADMINISTRACION DE EMPRESAS & 170 & 13430 & F & 3 & 02          & MAGANGUE   & REGULAR          & 2018 & 1\\\\\n",
       "\t 2019 & 2 & 26 & 51831 & ADMINISTRACION DE EMPRESAS & 170 & 70001 & F & 6 & 01          & SINCELEJO  &                  & 2017 & 2\\\\\n",
       "\t 2019 & 2 & 27 & 51831 & ADMINISTRACION DE EMPRESAS & 170 & 70400 & M & 7 & 01          & LA UNION   & AFRODESCENDIENTE & 2016 & 1\\\\\n",
       "\t 2019 & 2 & 28 & 51831 & ADMINISTRACION DE EMPRESAS & 170 & 47707 & F & 1 & 01          & SANTA ANA  & REGULAR          & 2019 & 2\\\\\n",
       "\t 2019 & 2 & 29 & 51831 & ADMINISTRACION DE EMPRESAS & 170 & 23182 & M & 2 & 01          & CHINU      & REGULAR          & 2018 & 2\\\\\n",
       "\t 2019 & 2 & 30 & 51831 & ADMINISTRACION DE EMPRESAS & 170 & 70001 & M & 3 & 02          & SINCELEJO  & REGULAR          & 2018 & 1\\\\\n",
       "\t ... & ... & ... & ... & ... & ... & ... & ... & ... & ... & ... & ... & ... & ...\\\\\n",
       "\t 2019 & 2 & 5963 & 3251 & ZOOTECNIA & 170 & 70001 & F &  1 & 01          & SINCELEJO            & REGULAR & 2019 & 2\\\\\n",
       "\t 2019 & 2 & 5964 & 3251 & ZOOTECNIA & 170 & 23580 & M &  1 & 01          & PUERTO LIBERTADOR    & REGULAR & 2019 & 2\\\\\n",
       "\t 2019 & 2 & 5965 & 3251 & ZOOTECNIA & 170 & 13244 & M &  1 & No Registra & EL CARMEN DE BOLIVAR & REGULAR & 2019 & 2\\\\\n",
       "\t 2019 & 2 & 5966 & 3251 & ZOOTECNIA & 170 & 70823 & M & 10 & No Registra & TOLU VIEJO           &         & 2014 & 2\\\\\n",
       "\t 2019 & 2 & 5967 & 3251 & ZOOTECNIA & 170 & 70823 & M &  5 & 01          & TOLU VIEJO           & REGULAR & 2015 & 1\\\\\n",
       "\t 2019 & 2 & 5968 & 3251 & ZOOTECNIA & 170 & 70001 & M &  1 & 02          & SINCELEJO            & REGULAR & 2019 & 2\\\\\n",
       "\t 2019 & 2 & 5969 & 3251 & ZOOTECNIA & 170 & 70001 & F &  7 & No Registra & SINCELEJO            &         & 2012 & 2\\\\\n",
       "\t 2019 & 2 & 5970 & 3251 & ZOOTECNIA & 170 & 70508 & M &  5 & 01          & OVEJAS               & REGULAR & 2016 & 2\\\\\n",
       "\t 2019 & 2 & 5971 & 3251 & ZOOTECNIA & 170 & 23466 & M &  1 & 01          & MONTELIBANO          & REGULAR & 2019 & 2\\\\\n",
       "\t 2019 & 2 & 5972 & 3251 & ZOOTECNIA & 170 & 70215 & M &  3 & 02          & COROZAL              & REGULAR & 2017 & 2\\\\\n",
       "\t 2019 & 2 & 5973 & 3251 & ZOOTECNIA & 170 & 70001 & M &  1 & No Registra & SINCELEJO            & REGULAR & 2019 & 2\\\\\n",
       "\t 2019 & 2 & 5974 & 3251 & ZOOTECNIA & 170 & 70001 & M &  4 & 01          & SINCELEJO            & REGULAR & 2016 & 2\\\\\n",
       "\t 2019 & 2 & 5975 & 3251 & ZOOTECNIA & 170 & 70215 & M &  6 & 04          & COROZAL              & REGULAR & 2016 & 2\\\\\n",
       "\t 2019 & 2 & 5976 & 3251 & ZOOTECNIA & 170 & 70001 & F &  5 & 01          & SINCELEJO            & REGULAR & 2017 & 1\\\\\n",
       "\t 2019 & 2 & 5977 & 3251 & ZOOTECNIA & 170 & 70001 & F &  2 & 03          & SINCELEJO            & REGULAR & 2017 & 1\\\\\n",
       "\t 2019 & 2 & 5978 & 3251 & ZOOTECNIA & 170 & 70001 & F &  7 & No Registra & SINCELEJO            &         & 2009 & 1\\\\\n",
       "\t 2019 & 2 & 5979 & 3251 & ZOOTECNIA & 170 & 70670 & M &  1 & 01          & SAMPUES              & REGULAR & 2019 & 2\\\\\n",
       "\t 2019 & 2 & 5980 & 3251 & ZOOTECNIA & 170 & 70001 & F &  4 & 02          & SINCELEJO            & REGULAR & 2017 & 2\\\\\n",
       "\t 2019 & 2 & 5981 & 3251 & ZOOTECNIA & 170 & 70823 & M &  4 & 01          & TOLU VIEJO           & REGULAR & 2015 & 1\\\\\n",
       "\t 2019 & 2 & 5982 & 3251 & ZOOTECNIA & 170 & 70670 & F &  6 &             & SAMPUES              & REGULAR & 2016 & 1\\\\\n",
       "\t 2019 & 2 & 5983 & 3251 & ZOOTECNIA & 170 & 70001 & M &  5 & 01          & SINCELEJO            & REGULAR & 2015 & 2\\\\\n",
       "\t 2019 & 2 & 5984 & 3251 & ZOOTECNIA & 170 &  8001 & F &  1 & 03          & BARRANQUILLA         & REGULAR & 2019 & 1\\\\\n",
       "\t 2019 & 2 & 5985 & 3251 & ZOOTECNIA & 170 & 70771 & F & 10 & No Registra & SUCRE                &         & 2012 & 2\\\\\n",
       "\t 2019 & 2 & 5986 & 3251 & ZOOTECNIA & 170 & 70001 & M &  5 &             & SINCELEJO            &         & 2014 & 2\\\\\n",
       "\t 2019 & 2 & 5987 & 3251 & ZOOTECNIA & 170 & 70001 & M &  4 & 01          & SINCELEJO            & REGULAR & 2017 & 2\\\\\n",
       "\t 2019 & 2 & 5988 & 3251 & ZOOTECNIA & 170 & 70001 & M &  1 & 01          & SINCELEJO            & REGULAR & 2019 & 1\\\\\n",
       "\t 2019 & 2 & 5989 & 3251 & ZOOTECNIA & 170 & 70708 & M &  3 & 01          & SAN MARCOS           & REGULAR & 2017 & 1\\\\\n",
       "\t 2019 & 2 & 5990 & 3251 & ZOOTECNIA & 170 &  8758 & F &  2 & 02          & SOLEDAD              & REGULAR & 2018 & 2\\\\\n",
       "\t 2019 & 2 & 5991 & 3251 & ZOOTECNIA & 170 &  8634 & M &  1 & 01          & SABANAGRANDE         & REGULAR & 2019 & 1\\\\\n",
       "\t 2019 & 2 & 5992 & 3251 & ZOOTECNIA & 170 & 70001 & F &  3 & 01          & SINCELEJO            & REGULAR & 2017 & 1\\\\\n",
       "\\end{tabular}\n"
      ],
      "text/markdown": [
       "\n",
       "A data.frame: 5992 × 14\n",
       "\n",
       "| AÑO &lt;int&gt; | PERIODO &lt;int&gt; | ID_ESTUDIANTE &lt;int&gt; | PRO_CONSECUTIVO &lt;int&gt; | PROGRAMA_ESTUDIANTE &lt;fct&gt; | ID_PAIS_NACIMIENTO &lt;int&gt; | ID_MUNICIPIO_NACIMIENTO &lt;int&gt; | SEXO &lt;fct&gt; | SEMESTRE &lt;int&gt; | ESTRATO &lt;fct&gt; | CIUDAD &lt;fct&gt; | CIRCUNSCRIPCIÓN &lt;fct&gt; | AÑO_INGRESO &lt;int&gt; | PERIODO_INGRESO &lt;int&gt; |\n",
       "|---|---|---|---|---|---|---|---|---|---|---|---|---|---|\n",
       "| 2019 | 2 |  1 | 51831 | ADMINISTRACION DE EMPRESAS | 170 | 70001 | F | 7 | 01          | SINCELEJO  | REGULAR          | 2016 | 1 |\n",
       "| 2019 | 2 |  2 | 51831 | ADMINISTRACION DE EMPRESAS | 170 | 70001 | M | 1 | 02          | SINCELEJO  | REGULAR          | 2019 | 1 |\n",
       "| 2019 | 2 |  3 | 51831 | ADMINISTRACION DE EMPRESAS | 170 | 70215 | F | 6 | 01          | COROZAL    | REGULAR          | 2016 | 2 |\n",
       "| 2019 | 2 |  4 | 51831 | ADMINISTRACION DE EMPRESAS | 170 | 70713 | F | 4 | 01          | SAN ONOFRE | REGULAR          | 2017 | 1 |\n",
       "| 2019 | 2 |  5 | 51831 | ADMINISTRACION DE EMPRESAS | 170 | 70001 | M | 7 | No Registra | SINCELEJO  | <!----> | 2011 | 2 |\n",
       "| 2019 | 2 |  6 | 51831 | ADMINISTRACION DE EMPRESAS | 170 | 70001 | F | 6 | 01          | SINCELEJO  | REGULAR          | 2016 | 2 |\n",
       "| 2019 | 2 |  7 | 51831 | ADMINISTRACION DE EMPRESAS | 170 | 70001 | M | 1 | 01          | SINCELEJO  | REGULAR          | 2019 | 1 |\n",
       "| 2019 | 2 |  8 | 51831 | ADMINISTRACION DE EMPRESAS | 170 | 70001 | M | 3 | 01          | SINCELEJO  | REGULAR          | 2018 | 1 |\n",
       "| 2019 | 2 |  9 | 51831 | ADMINISTRACION DE EMPRESAS | 170 | 70110 | F | 2 | 01          | BUENAVISTA | REGULAR          | 2018 | 2 |\n",
       "| 2019 | 2 | 10 | 51831 | ADMINISTRACION DE EMPRESAS | 170 | 70001 | M | 5 | 02          | SINCELEJO  | REGULAR          | 2017 | 1 |\n",
       "| 2019 | 2 | 11 | 51831 | ADMINISTRACION DE EMPRESAS | 170 | 70001 | F | 8 | 01          | SINCELEJO  | REGULAR          | 2015 | 2 |\n",
       "| 2019 | 2 | 12 | 51831 | ADMINISTRACION DE EMPRESAS | 170 | 70001 | F | 5 | 01          | SINCELEJO  | REGULAR          | 2017 | 1 |\n",
       "| 2019 | 2 | 13 | 51831 | ADMINISTRACION DE EMPRESAS | 170 | 70001 | M | 7 | 01          | SINCELEJO  | <!----> | 2017 | 2 |\n",
       "| 2019 | 2 | 14 | 51831 | ADMINISTRACION DE EMPRESAS | 170 | 70215 | F | 5 | 01          | COROZAL    | REGULAR          | 2017 | 1 |\n",
       "| 2019 | 2 | 15 | 51831 | ADMINISTRACION DE EMPRESAS | 170 | 70001 | F | 5 | <!----> | SINCELEJO  | <!----> | 2008 | 2 |\n",
       "| 2019 | 2 | 16 | 51831 | ADMINISTRACION DE EMPRESAS | 170 | 70473 | F | 1 | 02          | MORROA     | <!----> | 2011 | 2 |\n",
       "| 2019 | 2 | 17 | 51831 | ADMINISTRACION DE EMPRESAS | 170 | 70508 | M | 1 | 01          | OVEJAS     | REGULAR          | 2019 | 1 |\n",
       "| 2019 | 2 | 18 | 51831 | ADMINISTRACION DE EMPRESAS | 170 | 70001 | F | 5 | 01          | SINCELEJO  | <!----> | 2015 | 1 |\n",
       "| 2019 | 2 | 19 | 51831 | ADMINISTRACION DE EMPRESAS | 170 | 70001 | M | 2 | 01          | SINCELEJO  | REGULAR          | 2018 | 2 |\n",
       "| 2019 | 2 | 20 | 51831 | ADMINISTRACION DE EMPRESAS | 170 | 70001 | M | 7 | No Registra | SINCELEJO  | <!----> | 2014 | 1 |\n",
       "| 2019 | 2 | 21 | 51831 | ADMINISTRACION DE EMPRESAS | 170 | 70001 | F | 1 | 01          | SINCELEJO  | REGULAR          | 2019 | 1 |\n",
       "| 2019 | 2 | 22 | 51831 | ADMINISTRACION DE EMPRESAS | 170 | 70001 | M | 1 | No Registra | SINCELEJO  | <!----> | 2014 | 2 |\n",
       "| 2019 | 2 | 23 | 51831 | ADMINISTRACION DE EMPRESAS | 170 | 70708 | M | 1 | 01          | SAN MARCOS | REGULAR          | 2019 | 1 |\n",
       "| 2019 | 2 | 24 | 51831 | ADMINISTRACION DE EMPRESAS | 170 | 70001 | F | 9 | 01          | SINCELEJO  | REGULAR          | 2015 | 2 |\n",
       "| 2019 | 2 | 25 | 51831 | ADMINISTRACION DE EMPRESAS | 170 | 13430 | F | 3 | 02          | MAGANGUE   | REGULAR          | 2018 | 1 |\n",
       "| 2019 | 2 | 26 | 51831 | ADMINISTRACION DE EMPRESAS | 170 | 70001 | F | 6 | 01          | SINCELEJO  | <!----> | 2017 | 2 |\n",
       "| 2019 | 2 | 27 | 51831 | ADMINISTRACION DE EMPRESAS | 170 | 70400 | M | 7 | 01          | LA UNION   | AFRODESCENDIENTE | 2016 | 1 |\n",
       "| 2019 | 2 | 28 | 51831 | ADMINISTRACION DE EMPRESAS | 170 | 47707 | F | 1 | 01          | SANTA ANA  | REGULAR          | 2019 | 2 |\n",
       "| 2019 | 2 | 29 | 51831 | ADMINISTRACION DE EMPRESAS | 170 | 23182 | M | 2 | 01          | CHINU      | REGULAR          | 2018 | 2 |\n",
       "| 2019 | 2 | 30 | 51831 | ADMINISTRACION DE EMPRESAS | 170 | 70001 | M | 3 | 02          | SINCELEJO  | REGULAR          | 2018 | 1 |\n",
       "| ... | ... | ... | ... | ... | ... | ... | ... | ... | ... | ... | ... | ... | ... |\n",
       "| 2019 | 2 | 5963 | 3251 | ZOOTECNIA | 170 | 70001 | F |  1 | 01          | SINCELEJO            | REGULAR | 2019 | 2 |\n",
       "| 2019 | 2 | 5964 | 3251 | ZOOTECNIA | 170 | 23580 | M |  1 | 01          | PUERTO LIBERTADOR    | REGULAR | 2019 | 2 |\n",
       "| 2019 | 2 | 5965 | 3251 | ZOOTECNIA | 170 | 13244 | M |  1 | No Registra | EL CARMEN DE BOLIVAR | REGULAR | 2019 | 2 |\n",
       "| 2019 | 2 | 5966 | 3251 | ZOOTECNIA | 170 | 70823 | M | 10 | No Registra | TOLU VIEJO           | <!----> | 2014 | 2 |\n",
       "| 2019 | 2 | 5967 | 3251 | ZOOTECNIA | 170 | 70823 | M |  5 | 01          | TOLU VIEJO           | REGULAR | 2015 | 1 |\n",
       "| 2019 | 2 | 5968 | 3251 | ZOOTECNIA | 170 | 70001 | M |  1 | 02          | SINCELEJO            | REGULAR | 2019 | 2 |\n",
       "| 2019 | 2 | 5969 | 3251 | ZOOTECNIA | 170 | 70001 | F |  7 | No Registra | SINCELEJO            | <!----> | 2012 | 2 |\n",
       "| 2019 | 2 | 5970 | 3251 | ZOOTECNIA | 170 | 70508 | M |  5 | 01          | OVEJAS               | REGULAR | 2016 | 2 |\n",
       "| 2019 | 2 | 5971 | 3251 | ZOOTECNIA | 170 | 23466 | M |  1 | 01          | MONTELIBANO          | REGULAR | 2019 | 2 |\n",
       "| 2019 | 2 | 5972 | 3251 | ZOOTECNIA | 170 | 70215 | M |  3 | 02          | COROZAL              | REGULAR | 2017 | 2 |\n",
       "| 2019 | 2 | 5973 | 3251 | ZOOTECNIA | 170 | 70001 | M |  1 | No Registra | SINCELEJO            | REGULAR | 2019 | 2 |\n",
       "| 2019 | 2 | 5974 | 3251 | ZOOTECNIA | 170 | 70001 | M |  4 | 01          | SINCELEJO            | REGULAR | 2016 | 2 |\n",
       "| 2019 | 2 | 5975 | 3251 | ZOOTECNIA | 170 | 70215 | M |  6 | 04          | COROZAL              | REGULAR | 2016 | 2 |\n",
       "| 2019 | 2 | 5976 | 3251 | ZOOTECNIA | 170 | 70001 | F |  5 | 01          | SINCELEJO            | REGULAR | 2017 | 1 |\n",
       "| 2019 | 2 | 5977 | 3251 | ZOOTECNIA | 170 | 70001 | F |  2 | 03          | SINCELEJO            | REGULAR | 2017 | 1 |\n",
       "| 2019 | 2 | 5978 | 3251 | ZOOTECNIA | 170 | 70001 | F |  7 | No Registra | SINCELEJO            | <!----> | 2009 | 1 |\n",
       "| 2019 | 2 | 5979 | 3251 | ZOOTECNIA | 170 | 70670 | M |  1 | 01          | SAMPUES              | REGULAR | 2019 | 2 |\n",
       "| 2019 | 2 | 5980 | 3251 | ZOOTECNIA | 170 | 70001 | F |  4 | 02          | SINCELEJO            | REGULAR | 2017 | 2 |\n",
       "| 2019 | 2 | 5981 | 3251 | ZOOTECNIA | 170 | 70823 | M |  4 | 01          | TOLU VIEJO           | REGULAR | 2015 | 1 |\n",
       "| 2019 | 2 | 5982 | 3251 | ZOOTECNIA | 170 | 70670 | F |  6 | <!----> | SAMPUES              | REGULAR | 2016 | 1 |\n",
       "| 2019 | 2 | 5983 | 3251 | ZOOTECNIA | 170 | 70001 | M |  5 | 01          | SINCELEJO            | REGULAR | 2015 | 2 |\n",
       "| 2019 | 2 | 5984 | 3251 | ZOOTECNIA | 170 |  8001 | F |  1 | 03          | BARRANQUILLA         | REGULAR | 2019 | 1 |\n",
       "| 2019 | 2 | 5985 | 3251 | ZOOTECNIA | 170 | 70771 | F | 10 | No Registra | SUCRE                | <!----> | 2012 | 2 |\n",
       "| 2019 | 2 | 5986 | 3251 | ZOOTECNIA | 170 | 70001 | M |  5 | <!----> | SINCELEJO            | <!----> | 2014 | 2 |\n",
       "| 2019 | 2 | 5987 | 3251 | ZOOTECNIA | 170 | 70001 | M |  4 | 01          | SINCELEJO            | REGULAR | 2017 | 2 |\n",
       "| 2019 | 2 | 5988 | 3251 | ZOOTECNIA | 170 | 70001 | M |  1 | 01          | SINCELEJO            | REGULAR | 2019 | 1 |\n",
       "| 2019 | 2 | 5989 | 3251 | ZOOTECNIA | 170 | 70708 | M |  3 | 01          | SAN MARCOS           | REGULAR | 2017 | 1 |\n",
       "| 2019 | 2 | 5990 | 3251 | ZOOTECNIA | 170 |  8758 | F |  2 | 02          | SOLEDAD              | REGULAR | 2018 | 2 |\n",
       "| 2019 | 2 | 5991 | 3251 | ZOOTECNIA | 170 |  8634 | M |  1 | 01          | SABANAGRANDE         | REGULAR | 2019 | 1 |\n",
       "| 2019 | 2 | 5992 | 3251 | ZOOTECNIA | 170 | 70001 | F |  3 | 01          | SINCELEJO            | REGULAR | 2017 | 1 |\n",
       "\n"
      ],
      "text/plain": [
       "     AÑO  PERIODO ID_ESTUDIANTE PRO_CONSECUTIVO PROGRAMA_ESTUDIANTE       \n",
       "1    2019 2        1            51831           ADMINISTRACION DE EMPRESAS\n",
       "2    2019 2        2            51831           ADMINISTRACION DE EMPRESAS\n",
       "3    2019 2        3            51831           ADMINISTRACION DE EMPRESAS\n",
       "4    2019 2        4            51831           ADMINISTRACION DE EMPRESAS\n",
       "5    2019 2        5            51831           ADMINISTRACION DE EMPRESAS\n",
       "6    2019 2        6            51831           ADMINISTRACION DE EMPRESAS\n",
       "7    2019 2        7            51831           ADMINISTRACION DE EMPRESAS\n",
       "8    2019 2        8            51831           ADMINISTRACION DE EMPRESAS\n",
       "9    2019 2        9            51831           ADMINISTRACION DE EMPRESAS\n",
       "10   2019 2       10            51831           ADMINISTRACION DE EMPRESAS\n",
       "11   2019 2       11            51831           ADMINISTRACION DE EMPRESAS\n",
       "12   2019 2       12            51831           ADMINISTRACION DE EMPRESAS\n",
       "13   2019 2       13            51831           ADMINISTRACION DE EMPRESAS\n",
       "14   2019 2       14            51831           ADMINISTRACION DE EMPRESAS\n",
       "15   2019 2       15            51831           ADMINISTRACION DE EMPRESAS\n",
       "16   2019 2       16            51831           ADMINISTRACION DE EMPRESAS\n",
       "17   2019 2       17            51831           ADMINISTRACION DE EMPRESAS\n",
       "18   2019 2       18            51831           ADMINISTRACION DE EMPRESAS\n",
       "19   2019 2       19            51831           ADMINISTRACION DE EMPRESAS\n",
       "20   2019 2       20            51831           ADMINISTRACION DE EMPRESAS\n",
       "21   2019 2       21            51831           ADMINISTRACION DE EMPRESAS\n",
       "22   2019 2       22            51831           ADMINISTRACION DE EMPRESAS\n",
       "23   2019 2       23            51831           ADMINISTRACION DE EMPRESAS\n",
       "24   2019 2       24            51831           ADMINISTRACION DE EMPRESAS\n",
       "25   2019 2       25            51831           ADMINISTRACION DE EMPRESAS\n",
       "26   2019 2       26            51831           ADMINISTRACION DE EMPRESAS\n",
       "27   2019 2       27            51831           ADMINISTRACION DE EMPRESAS\n",
       "28   2019 2       28            51831           ADMINISTRACION DE EMPRESAS\n",
       "29   2019 2       29            51831           ADMINISTRACION DE EMPRESAS\n",
       "30   2019 2       30            51831           ADMINISTRACION DE EMPRESAS\n",
       "...  ...  ...     ...           ...             ...                       \n",
       "5963 2019 2       5963          3251            ZOOTECNIA                 \n",
       "5964 2019 2       5964          3251            ZOOTECNIA                 \n",
       "5965 2019 2       5965          3251            ZOOTECNIA                 \n",
       "5966 2019 2       5966          3251            ZOOTECNIA                 \n",
       "5967 2019 2       5967          3251            ZOOTECNIA                 \n",
       "5968 2019 2       5968          3251            ZOOTECNIA                 \n",
       "5969 2019 2       5969          3251            ZOOTECNIA                 \n",
       "5970 2019 2       5970          3251            ZOOTECNIA                 \n",
       "5971 2019 2       5971          3251            ZOOTECNIA                 \n",
       "5972 2019 2       5972          3251            ZOOTECNIA                 \n",
       "5973 2019 2       5973          3251            ZOOTECNIA                 \n",
       "5974 2019 2       5974          3251            ZOOTECNIA                 \n",
       "5975 2019 2       5975          3251            ZOOTECNIA                 \n",
       "5976 2019 2       5976          3251            ZOOTECNIA                 \n",
       "5977 2019 2       5977          3251            ZOOTECNIA                 \n",
       "5978 2019 2       5978          3251            ZOOTECNIA                 \n",
       "5979 2019 2       5979          3251            ZOOTECNIA                 \n",
       "5980 2019 2       5980          3251            ZOOTECNIA                 \n",
       "5981 2019 2       5981          3251            ZOOTECNIA                 \n",
       "5982 2019 2       5982          3251            ZOOTECNIA                 \n",
       "5983 2019 2       5983          3251            ZOOTECNIA                 \n",
       "5984 2019 2       5984          3251            ZOOTECNIA                 \n",
       "5985 2019 2       5985          3251            ZOOTECNIA                 \n",
       "5986 2019 2       5986          3251            ZOOTECNIA                 \n",
       "5987 2019 2       5987          3251            ZOOTECNIA                 \n",
       "5988 2019 2       5988          3251            ZOOTECNIA                 \n",
       "5989 2019 2       5989          3251            ZOOTECNIA                 \n",
       "5990 2019 2       5990          3251            ZOOTECNIA                 \n",
       "5991 2019 2       5991          3251            ZOOTECNIA                 \n",
       "5992 2019 2       5992          3251            ZOOTECNIA                 \n",
       "     ID_PAIS_NACIMIENTO ID_MUNICIPIO_NACIMIENTO SEXO SEMESTRE ESTRATO    \n",
       "1    170                70001                   F    7        01         \n",
       "2    170                70001                   M    1        02         \n",
       "3    170                70215                   F    6        01         \n",
       "4    170                70713                   F    4        01         \n",
       "5    170                70001                   M    7        No Registra\n",
       "6    170                70001                   F    6        01         \n",
       "7    170                70001                   M    1        01         \n",
       "8    170                70001                   M    3        01         \n",
       "9    170                70110                   F    2        01         \n",
       "10   170                70001                   M    5        02         \n",
       "11   170                70001                   F    8        01         \n",
       "12   170                70001                   F    5        01         \n",
       "13   170                70001                   M    7        01         \n",
       "14   170                70215                   F    5        01         \n",
       "15   170                70001                   F    5                   \n",
       "16   170                70473                   F    1        02         \n",
       "17   170                70508                   M    1        01         \n",
       "18   170                70001                   F    5        01         \n",
       "19   170                70001                   M    2        01         \n",
       "20   170                70001                   M    7        No Registra\n",
       "21   170                70001                   F    1        01         \n",
       "22   170                70001                   M    1        No Registra\n",
       "23   170                70708                   M    1        01         \n",
       "24   170                70001                   F    9        01         \n",
       "25   170                13430                   F    3        02         \n",
       "26   170                70001                   F    6        01         \n",
       "27   170                70400                   M    7        01         \n",
       "28   170                47707                   F    1        01         \n",
       "29   170                23182                   M    2        01         \n",
       "30   170                70001                   M    3        02         \n",
       "...  ...                ...                     ...  ...      ...        \n",
       "5963 170                70001                   F     1       01         \n",
       "5964 170                23580                   M     1       01         \n",
       "5965 170                13244                   M     1       No Registra\n",
       "5966 170                70823                   M    10       No Registra\n",
       "5967 170                70823                   M     5       01         \n",
       "5968 170                70001                   M     1       02         \n",
       "5969 170                70001                   F     7       No Registra\n",
       "5970 170                70508                   M     5       01         \n",
       "5971 170                23466                   M     1       01         \n",
       "5972 170                70215                   M     3       02         \n",
       "5973 170                70001                   M     1       No Registra\n",
       "5974 170                70001                   M     4       01         \n",
       "5975 170                70215                   M     6       04         \n",
       "5976 170                70001                   F     5       01         \n",
       "5977 170                70001                   F     2       03         \n",
       "5978 170                70001                   F     7       No Registra\n",
       "5979 170                70670                   M     1       01         \n",
       "5980 170                70001                   F     4       02         \n",
       "5981 170                70823                   M     4       01         \n",
       "5982 170                70670                   F     6                  \n",
       "5983 170                70001                   M     5       01         \n",
       "5984 170                 8001                   F     1       03         \n",
       "5985 170                70771                   F    10       No Registra\n",
       "5986 170                70001                   M     5                  \n",
       "5987 170                70001                   M     4       01         \n",
       "5988 170                70001                   M     1       01         \n",
       "5989 170                70708                   M     3       01         \n",
       "5990 170                 8758                   F     2       02         \n",
       "5991 170                 8634                   M     1       01         \n",
       "5992 170                70001                   F     3       01         \n",
       "     CIUDAD               CIRCUNSCRIPCIÓN  AÑO_INGRESO PERIODO_INGRESO\n",
       "1    SINCELEJO            REGULAR          2016        1              \n",
       "2    SINCELEJO            REGULAR          2019        1              \n",
       "3    COROZAL              REGULAR          2016        2              \n",
       "4    SAN ONOFRE           REGULAR          2017        1              \n",
       "5    SINCELEJO                             2011        2              \n",
       "6    SINCELEJO            REGULAR          2016        2              \n",
       "7    SINCELEJO            REGULAR          2019        1              \n",
       "8    SINCELEJO            REGULAR          2018        1              \n",
       "9    BUENAVISTA           REGULAR          2018        2              \n",
       "10   SINCELEJO            REGULAR          2017        1              \n",
       "11   SINCELEJO            REGULAR          2015        2              \n",
       "12   SINCELEJO            REGULAR          2017        1              \n",
       "13   SINCELEJO                             2017        2              \n",
       "14   COROZAL              REGULAR          2017        1              \n",
       "15   SINCELEJO                             2008        2              \n",
       "16   MORROA                                2011        2              \n",
       "17   OVEJAS               REGULAR          2019        1              \n",
       "18   SINCELEJO                             2015        1              \n",
       "19   SINCELEJO            REGULAR          2018        2              \n",
       "20   SINCELEJO                             2014        1              \n",
       "21   SINCELEJO            REGULAR          2019        1              \n",
       "22   SINCELEJO                             2014        2              \n",
       "23   SAN MARCOS           REGULAR          2019        1              \n",
       "24   SINCELEJO            REGULAR          2015        2              \n",
       "25   MAGANGUE             REGULAR          2018        1              \n",
       "26   SINCELEJO                             2017        2              \n",
       "27   LA UNION             AFRODESCENDIENTE 2016        1              \n",
       "28   SANTA ANA            REGULAR          2019        2              \n",
       "29   CHINU                REGULAR          2018        2              \n",
       "30   SINCELEJO            REGULAR          2018        1              \n",
       "...  ...                  ...              ...         ...            \n",
       "5963 SINCELEJO            REGULAR          2019        2              \n",
       "5964 PUERTO LIBERTADOR    REGULAR          2019        2              \n",
       "5965 EL CARMEN DE BOLIVAR REGULAR          2019        2              \n",
       "5966 TOLU VIEJO                            2014        2              \n",
       "5967 TOLU VIEJO           REGULAR          2015        1              \n",
       "5968 SINCELEJO            REGULAR          2019        2              \n",
       "5969 SINCELEJO                             2012        2              \n",
       "5970 OVEJAS               REGULAR          2016        2              \n",
       "5971 MONTELIBANO          REGULAR          2019        2              \n",
       "5972 COROZAL              REGULAR          2017        2              \n",
       "5973 SINCELEJO            REGULAR          2019        2              \n",
       "5974 SINCELEJO            REGULAR          2016        2              \n",
       "5975 COROZAL              REGULAR          2016        2              \n",
       "5976 SINCELEJO            REGULAR          2017        1              \n",
       "5977 SINCELEJO            REGULAR          2017        1              \n",
       "5978 SINCELEJO                             2009        1              \n",
       "5979 SAMPUES              REGULAR          2019        2              \n",
       "5980 SINCELEJO            REGULAR          2017        2              \n",
       "5981 TOLU VIEJO           REGULAR          2015        1              \n",
       "5982 SAMPUES              REGULAR          2016        1              \n",
       "5983 SINCELEJO            REGULAR          2015        2              \n",
       "5984 BARRANQUILLA         REGULAR          2019        1              \n",
       "5985 SUCRE                                 2012        2              \n",
       "5986 SINCELEJO                             2014        2              \n",
       "5987 SINCELEJO            REGULAR          2017        2              \n",
       "5988 SINCELEJO            REGULAR          2019        1              \n",
       "5989 SAN MARCOS           REGULAR          2017        1              \n",
       "5990 SOLEDAD              REGULAR          2018        2              \n",
       "5991 SABANAGRANDE         REGULAR          2019        1              \n",
       "5992 SINCELEJO            REGULAR          2017        1              "
      ]
     },
     "metadata": {},
     "output_type": "display_data"
    }
   ],
   "source": [
    "Pregrados"
   ]
  },
  {
   "cell_type": "code",
   "execution_count": 54,
   "metadata": {},
   "outputs": [
    {
     "name": "stdout",
     "output_type": "stream",
     "text": [
      "'data.frame':\t5992 obs. of  14 variables:\n",
      " $ AÑO                    : int  2019 2019 2019 2019 2019 2019 2019 2019 2019 2019 ...\n",
      " $ PERIODO                : int  2 2 2 2 2 2 2 2 2 2 ...\n",
      " $ ID_ESTUDIANTE          : int  1 2 3 4 5 6 7 8 9 10 ...\n",
      " $ PRO_CONSECUTIVO        : int  51831 51831 51831 51831 51831 51831 51831 51831 51831 51831 ...\n",
      " $ PROGRAMA_ESTUDIANTE    : Factor w/ 26 levels \"ADMINISTRACION DE EMPRESAS\",..: 1 1 1 1 1 1 1 1 1 1 ...\n",
      " $ ID_PAIS_NACIMIENTO     : int  170 170 170 170 170 170 170 170 170 170 ...\n",
      " $ ID_MUNICIPIO_NACIMIENTO: int  70001 70001 70215 70713 70001 70001 70001 70001 70110 70001 ...\n",
      " $ SEXO                   : Factor w/ 2 levels \"F\",\"M\": 1 2 1 1 2 1 2 2 1 2 ...\n",
      " $ SEMESTRE               : int  7 1 6 4 7 6 1 3 2 5 ...\n",
      " $ ESTRATO                : Factor w/ 8 levels \"\",\"01\",\"02\",\"03\",..: 2 3 2 2 8 2 2 2 2 3 ...\n",
      " $ CIUDAD                 : Factor w/ 164 levels \"\",\"ACHI\",\"AGUACHICA\",..: 141 141 46 127 141 141 141 141 23 141 ...\n",
      " $ CIRCUNSCRIPCIÓN        : Factor w/ 6 levels \"\",\"AFRODESCENDIENTE\",..: 6 6 6 6 1 6 6 6 6 6 ...\n",
      " $ AÑO_INGRESO            : int  2016 2019 2016 2017 2011 2016 2019 2018 2018 2017 ...\n",
      " $ PERIODO_INGRESO        : int  1 1 2 1 2 2 1 1 2 1 ...\n"
     ]
    }
   ],
   "source": [
    "str(Pregrados)"
   ]
  },
  {
   "cell_type": "code",
   "execution_count": 56,
   "metadata": {},
   "outputs": [
    {
     "data": {
      "text/plain": [
       "                                                        \n",
       "                                                              01  02  03  04\n",
       "  ADMINISTRACION DE EMPRESAS                              10 237 105  16   2\n",
       "  ADMINISTRACIÓN DE EMPRESAS \\\\- (A PARTIR DE LAS 4 P.M)   1  17   5   0   0\n",
       "  ADMINISTRACION DE EMPRESAS NOCTURNA                      0  17   5   0   0\n",
       "  BIOLOGIA                                                15 250  78   8   0\n",
       "  BIOLOGIA \\\\- (A PARTIR DE LAS 4 P.M)                     7   7   1   0   0\n",
       "  CONTADURIA PUBLICA                                       5 294  76   2   0\n",
       "  CONTADURÍA PÚBLICA (A PARTIR DE LAS 4 P.M)               2  33   4   0   0\n",
       "  CONTADURIA PUBLICA NOCTURNA                              0  19   4   0   0\n",
       "  DERECHO                                                  2 260 124   9   2\n",
       "  DERECHO NOCTURNA                                         0  53  18   0   0\n",
       "  ECONOMIA                                                 6 256  73   5   1\n",
       "  ECONOMÍA \\\\- (A PARTIR DE LAS 4 P.M)                     1   2   0   0   0\n",
       "  ENFERMERIA                                               1 105  38   1   0\n",
       "  FONOAUDIOLOGIA                                           0 141  47   1   0\n",
       "  INGENIERIA AGRICOLA                                      4 223  52   2   1\n",
       "  INGENIERIA AGROINDUSTRIAL                               11 256  70   6   0\n",
       "  INGENIERIA CIVIL                                        17 299 109  13   3\n",
       "  INGENIERIA CIVIL \\\\- (A PARTIR DE LAS 4 P.M)             4   4   1   0   0\n",
       "  LICENCIATURA EN FÍSICA                                   3 169  17   0   1\n",
       "  LICENCIATURA EN LENGUAS EXTRANJERAS                      3 227 123   4   1\n",
       "  LICENCIATURA EN MATEMATICAS                              5 282  37   0   0\n",
       "  MEDICINA                                                 2  81  71   7   1\n",
       "  TECNOLOGÍA EN ELECTRÓNICA INDUSTRIAL                     3 140  38   1   0\n",
       "  TECNOLOGIA EN GESTION EMPRESARIAL                        3  19  10   0   0\n",
       "  TECNOLOGIA EN REGENCIA DE FARMACIA                       0 135  17   1   1\n",
       "  ZOOTECNIA                                                8 249  61   5   1\n",
       "                                                        \n",
       "                                                          05  06 No Registra\n",
       "  ADMINISTRACION DE EMPRESAS                               1   0          32\n",
       "  ADMINISTRACIÓN DE EMPRESAS \\\\- (A PARTIR DE LAS 4 P.M)   0   0          12\n",
       "  ADMINISTRACION DE EMPRESAS NOCTURNA                      0   0           1\n",
       "  BIOLOGIA                                                 0   0          76\n",
       "  BIOLOGIA \\\\- (A PARTIR DE LAS 4 P.M)                     0   0          47\n",
       "  CONTADURIA PUBLICA                                       0   0          15\n",
       "  CONTADURÍA PÚBLICA (A PARTIR DE LAS 4 P.M)               0   0           6\n",
       "  CONTADURIA PUBLICA NOCTURNA                              0   0           0\n",
       "  DERECHO                                                  0   0          19\n",
       "  DERECHO NOCTURNA                                         0   0           0\n",
       "  ECONOMIA                                                 0   0          29\n",
       "  ECONOMÍA \\\\- (A PARTIR DE LAS 4 P.M)                     0   0          10\n",
       "  ENFERMERIA                                               0   0           7\n",
       "  FONOAUDIOLOGIA                                           0   0          13\n",
       "  INGENIERIA AGRICOLA                                      0   0          66\n",
       "  INGENIERIA AGROINDUSTRIAL                                0   0          62\n",
       "  INGENIERIA CIVIL                                         0   0          82\n",
       "  INGENIERIA CIVIL \\\\- (A PARTIR DE LAS 4 P.M)             0   0          36\n",
       "  LICENCIATURA EN FÍSICA                                   0   0          21\n",
       "  LICENCIATURA EN LENGUAS EXTRANJERAS                      0   0          40\n",
       "  LICENCIATURA EN MATEMATICAS                              0   0          55\n",
       "  MEDICINA                                                 0   0          50\n",
       "  TECNOLOGÍA EN ELECTRÓNICA INDUSTRIAL                     0   0          23\n",
       "  TECNOLOGIA EN GESTION EMPRESARIAL                        0   0          19\n",
       "  TECNOLOGIA EN REGENCIA DE FARMACIA                       0   1           7\n",
       "  ZOOTECNIA                                                1   0          94"
      ]
     },
     "metadata": {},
     "output_type": "display_data"
    }
   ],
   "source": [
    "table(Pregrados$PROGRAMA_ESTUDIANTE, Pregrados$ESTRATO)"
   ]
  },
  {
   "cell_type": "code",
   "execution_count": 58,
   "metadata": {},
   "outputs": [
    {
     "data": {
      "text/plain": [
       ", ,  = F\n",
       "\n",
       "                                                        \n",
       "                                                              01  02  03  04\n",
       "  ADMINISTRACION DE EMPRESAS                               5 127  49   4   1\n",
       "  ADMINISTRACIÓN DE EMPRESAS \\\\- (A PARTIR DE LAS 4 P.M)   1   8   3   0   0\n",
       "  ADMINISTRACION DE EMPRESAS NOCTURNA                      0  10   1   0   0\n",
       "  BIOLOGIA                                                 7 134  37   5   0\n",
       "  BIOLOGIA \\\\- (A PARTIR DE LAS 4 P.M)                     4   7   1   0   0\n",
       "  CONTADURIA PUBLICA                                       3 142  34   1   0\n",
       "  CONTADURÍA PÚBLICA (A PARTIR DE LAS 4 P.M)               1  15   2   0   0\n",
       "  CONTADURIA PUBLICA NOCTURNA                              0   8   1   0   0\n",
       "  DERECHO                                                  2 168  72   4   0\n",
       "  DERECHO NOCTURNA                                         0  34  12   0   0\n",
       "  ECONOMIA                                                 4 122  32   1   0\n",
       "  ECONOMÍA \\\\- (A PARTIR DE LAS 4 P.M)                     1   1   0   0   0\n",
       "  ENFERMERIA                                               1  79  28   1   0\n",
       "  FONOAUDIOLOGIA                                           0 124  45   1   0\n",
       "  INGENIERIA AGRICOLA                                      0  91  18   0   0\n",
       "  INGENIERIA AGROINDUSTRIAL                                3 106  24   1   0\n",
       "  INGENIERIA CIVIL                                         7  75  37   4   0\n",
       "  INGENIERIA CIVIL \\\\- (A PARTIR DE LAS 4 P.M)             1   0   0   0   0\n",
       "  LICENCIATURA EN FÍSICA                                   1  69   3   0   0\n",
       "  LICENCIATURA EN LENGUAS EXTRANJERAS                      3 160  85   2   0\n",
       "  LICENCIATURA EN MATEMATICAS                              3  94  14   0   0\n",
       "  MEDICINA                                                 1  39  36   3   0\n",
       "  TECNOLOGÍA EN ELECTRÓNICA INDUSTRIAL                     1   7   2   0   0\n",
       "  TECNOLOGIA EN GESTION EMPRESARIAL                        1  16   5   0   0\n",
       "  TECNOLOGIA EN REGENCIA DE FARMACIA                       0  95  10   1   1\n",
       "  ZOOTECNIA                                                3  84  19   3   0\n",
       "                                                        \n",
       "                                                          05  06 No Registra\n",
       "  ADMINISTRACION DE EMPRESAS                               1   0          12\n",
       "  ADMINISTRACIÓN DE EMPRESAS \\\\- (A PARTIR DE LAS 4 P.M)   0   0           5\n",
       "  ADMINISTRACION DE EMPRESAS NOCTURNA                      0   0           1\n",
       "  BIOLOGIA                                                 0   0          36\n",
       "  BIOLOGIA \\\\- (A PARTIR DE LAS 4 P.M)                     0   0          27\n",
       "  CONTADURIA PUBLICA                                       0   0           7\n",
       "  CONTADURÍA PÚBLICA (A PARTIR DE LAS 4 P.M)               0   0           3\n",
       "  CONTADURIA PUBLICA NOCTURNA                              0   0           0\n",
       "  DERECHO                                                  0   0          13\n",
       "  DERECHO NOCTURNA                                         0   0           0\n",
       "  ECONOMIA                                                 0   0          15\n",
       "  ECONOMÍA \\\\- (A PARTIR DE LAS 4 P.M)                     0   0           5\n",
       "  ENFERMERIA                                               0   0           6\n",
       "  FONOAUDIOLOGIA                                           0   0          13\n",
       "  INGENIERIA AGRICOLA                                      0   0          17\n",
       "  INGENIERIA AGROINDUSTRIAL                                0   0          19\n",
       "  INGENIERIA CIVIL                                         0   0          17\n",
       "  INGENIERIA CIVIL \\\\- (A PARTIR DE LAS 4 P.M)             0   0          12\n",
       "  LICENCIATURA EN FÍSICA                                   0   0           9\n",
       "  LICENCIATURA EN LENGUAS EXTRANJERAS                      0   0          24\n",
       "  LICENCIATURA EN MATEMATICAS                              0   0          22\n",
       "  MEDICINA                                                 0   0          25\n",
       "  TECNOLOGÍA EN ELECTRÓNICA INDUSTRIAL                     0   0           1\n",
       "  TECNOLOGIA EN GESTION EMPRESARIAL                        0   0           9\n",
       "  TECNOLOGIA EN REGENCIA DE FARMACIA                       0   1           5\n",
       "  ZOOTECNIA                                                0   0          22\n",
       "\n",
       ", ,  = M\n",
       "\n",
       "                                                        \n",
       "                                                              01  02  03  04\n",
       "  ADMINISTRACION DE EMPRESAS                               5 110  56  12   1\n",
       "  ADMINISTRACIÓN DE EMPRESAS \\\\- (A PARTIR DE LAS 4 P.M)   0   9   2   0   0\n",
       "  ADMINISTRACION DE EMPRESAS NOCTURNA                      0   7   4   0   0\n",
       "  BIOLOGIA                                                 8 116  41   3   0\n",
       "  BIOLOGIA \\\\- (A PARTIR DE LAS 4 P.M)                     3   0   0   0   0\n",
       "  CONTADURIA PUBLICA                                       2 152  42   1   0\n",
       "  CONTADURÍA PÚBLICA (A PARTIR DE LAS 4 P.M)               1  18   2   0   0\n",
       "  CONTADURIA PUBLICA NOCTURNA                              0  11   3   0   0\n",
       "  DERECHO                                                  0  92  52   5   2\n",
       "  DERECHO NOCTURNA                                         0  19   6   0   0\n",
       "  ECONOMIA                                                 2 134  41   4   1\n",
       "  ECONOMÍA \\\\- (A PARTIR DE LAS 4 P.M)                     0   1   0   0   0\n",
       "  ENFERMERIA                                               0  26  10   0   0\n",
       "  FONOAUDIOLOGIA                                           0  17   2   0   0\n",
       "  INGENIERIA AGRICOLA                                      4 132  34   2   1\n",
       "  INGENIERIA AGROINDUSTRIAL                                8 150  46   5   0\n",
       "  INGENIERIA CIVIL                                        10 224  72   9   3\n",
       "  INGENIERIA CIVIL \\\\- (A PARTIR DE LAS 4 P.M)             3   4   1   0   0\n",
       "  LICENCIATURA EN FÍSICA                                   2 100  14   0   1\n",
       "  LICENCIATURA EN LENGUAS EXTRANJERAS                      0  67  38   2   1\n",
       "  LICENCIATURA EN MATEMATICAS                              2 188  23   0   0\n",
       "  MEDICINA                                                 1  42  35   4   1\n",
       "  TECNOLOGÍA EN ELECTRÓNICA INDUSTRIAL                     2 133  36   1   0\n",
       "  TECNOLOGIA EN GESTION EMPRESARIAL                        2   3   5   0   0\n",
       "  TECNOLOGIA EN REGENCIA DE FARMACIA                       0  40   7   0   0\n",
       "  ZOOTECNIA                                                5 165  42   2   1\n",
       "                                                        \n",
       "                                                          05  06 No Registra\n",
       "  ADMINISTRACION DE EMPRESAS                               0   0          20\n",
       "  ADMINISTRACIÓN DE EMPRESAS \\\\- (A PARTIR DE LAS 4 P.M)   0   0           7\n",
       "  ADMINISTRACION DE EMPRESAS NOCTURNA                      0   0           0\n",
       "  BIOLOGIA                                                 0   0          40\n",
       "  BIOLOGIA \\\\- (A PARTIR DE LAS 4 P.M)                     0   0          20\n",
       "  CONTADURIA PUBLICA                                       0   0           8\n",
       "  CONTADURÍA PÚBLICA (A PARTIR DE LAS 4 P.M)               0   0           3\n",
       "  CONTADURIA PUBLICA NOCTURNA                              0   0           0\n",
       "  DERECHO                                                  0   0           6\n",
       "  DERECHO NOCTURNA                                         0   0           0\n",
       "  ECONOMIA                                                 0   0          14\n",
       "  ECONOMÍA \\\\- (A PARTIR DE LAS 4 P.M)                     0   0           5\n",
       "  ENFERMERIA                                               0   0           1\n",
       "  FONOAUDIOLOGIA                                           0   0           0\n",
       "  INGENIERIA AGRICOLA                                      0   0          49\n",
       "  INGENIERIA AGROINDUSTRIAL                                0   0          43\n",
       "  INGENIERIA CIVIL                                         0   0          65\n",
       "  INGENIERIA CIVIL \\\\- (A PARTIR DE LAS 4 P.M)             0   0          24\n",
       "  LICENCIATURA EN FÍSICA                                   0   0          12\n",
       "  LICENCIATURA EN LENGUAS EXTRANJERAS                      0   0          16\n",
       "  LICENCIATURA EN MATEMATICAS                              0   0          33\n",
       "  MEDICINA                                                 0   0          25\n",
       "  TECNOLOGÍA EN ELECTRÓNICA INDUSTRIAL                     0   0          22\n",
       "  TECNOLOGIA EN GESTION EMPRESARIAL                        0   0          10\n",
       "  TECNOLOGIA EN REGENCIA DE FARMACIA                       0   0           2\n",
       "  ZOOTECNIA                                                1   0          72\n"
      ]
     },
     "metadata": {},
     "output_type": "display_data"
    }
   ],
   "source": [
    "table(Pregrados$PROGRAMA_ESTUDIANTE, Pregrados$ESTRATO, Pregrados$SEXO)"
   ]
  },
  {
   "cell_type": "markdown",
   "metadata": {},
   "source": [
    "## Gráficos Multivariados"
   ]
  },
  {
   "cell_type": "code",
   "execution_count": 63,
   "metadata": {},
   "outputs": [
    {
     "data": {
      "image/png": "[encoded data removed]",
      "text/plain": [
       "plot without title"
      ]
     },
     "metadata": {
      "image/png": {
       "height": 420,
       "width": 420
      },
      "text/plain": {
       "height": 420,
       "width": 420
      }
     },
     "output_type": "display_data"
    }
   ],
   "source": [
    "ggplot(Pregrados, aes(x=AÑO_INGRESO, fill=ESTRATO))+geom_bar()"
   ]
  },
  {
   "cell_type": "code",
   "execution_count": 64,
   "metadata": {},
   "outputs": [
    {
     "data": {
      "image/png": "[encoded data removed]",
      "text/plain": [
       "plot without title"
      ]
     },
     "metadata": {
      "image/png": {
       "height": 420,
       "width": 420
      },
      "text/plain": {
       "height": 420,
       "width": 420
      }
     },
     "output_type": "display_data"
    }
   ],
   "source": [
    "ggplot(Pregrados, aes(x=AÑO_INGRESO, fill=ESTRATO))+geom_bar()+facet_grid(.~SEXO)"
   ]
  },
  {
   "cell_type": "code",
   "execution_count": 70,
   "metadata": {},
   "outputs": [
    {
     "data": {
      "image/png": "[encoded data removed]",
      "text/plain": [
       "plot without title"
      ]
     },
     "metadata": {
      "image/png": {
       "height": 420,
       "width": 420
      },
      "text/plain": {
       "height": 420,
       "width": 420
      }
     },
     "output_type": "display_data"
    }
   ],
   "source": [
    "ggplot(Pregrados, aes(x=SEXO, y=SEMESTRE))+geom_boxplot()+facet_grid(.~ESTRATO)"
   ]
  },
  {
   "cell_type": "code",
   "execution_count": 71,
   "metadata": {},
   "outputs": [
    {
     "name": "stderr",
     "output_type": "stream",
     "text": [
      "Warning message:\n",
      "\"Groups with fewer than two data points have been dropped.\"\n",
      "Warning message:\n",
      "\"Groups with fewer than two data points have been dropped.\"\n",
      "Warning message:\n",
      "\"Groups with fewer than two data points have been dropped.\"\n"
     ]
    },
    {
     "data": {
      "image/png": "[encoded data removed]",
      "text/plain": [
       "plot without title"
      ]
     },
     "metadata": {
      "image/png": {
       "height": 420,
       "width": 420
      },
      "text/plain": {
       "height": 420,
       "width": 420
      }
     },
     "output_type": "display_data"
    }
   ],
   "source": [
    "ggplot(Pregrados, aes(x=SEMESTRE, fill=SEXO, alpha=0.5))+geom_density()+facet_grid(.~ESTRATO)"
   ]
  },
  {
   "cell_type": "code",
   "execution_count": null,
   "metadata": {},
   "outputs": [],
   "source": []
  }
 ],
 "metadata": {
  "kernelspec": {
   "display_name": "R",
   "language": "R",
   "name": "ir"
  },
  "language_info": {
   "codemirror_mode": "r",
   "file_extension": ".r",
   "mimetype": "text/x-r-source",
   "name": "R",
   "pygments_lexer": "r",
   "version": "3.6.2"
  },
  "toc": {
   "base_numbering": 1,
   "nav_menu": {},
   "number_sections": true,
   "sideBar": true,
   "skip_h1_title": false,
   "title_cell": "Table of Contents",
   "title_sidebar": "Contents",
   "toc_cell": false,
   "toc_position": {},
   "toc_section_display": true,
   "toc_window_display": false
  }
 },
 "nbformat": 4,
 "nbformat_minor": 2
}
